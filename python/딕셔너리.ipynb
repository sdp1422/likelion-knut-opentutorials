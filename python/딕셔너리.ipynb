{
 "cells": [
  {
   "cell_type": "markdown",
   "metadata": {},
   "source": [
    "# 딕셔너리\n",
    ">- 사전(Dictionary)형\n",
    "- `'key' : '값'` 형식으로 이루어짐\n",
    "- 사전에서 단어를 찾을 때처럼\n",
    "- 어떠한 값을 찾기 위해 key를 통해 접근한다.\n",
    "- 자료의 순서가 없기 때문에\n",
    "- 리스트나 튜플처럼 인덱스를 통해 접근할 수 없다.\n",
    "\n",
    "---\n",
    "<br><br><br>"
   ]
  },
  {
   "cell_type": "code",
   "execution_count": 30,
   "metadata": {},
   "outputs": [
    {
     "name": "stdout",
     "output_type": "stream",
     "text": [
      "<class 'dict'>\n",
      "<class 'dict'>\n",
      "<class 'dict'>\n",
      "<class 'dict'>\n"
     ]
    }
   ],
   "source": [
    "dict1 = dict()\n",
    "dict2 = dict([('apple','사과'), ('banana','바나나'), ('cherry','체리')])\n",
    "dict3 = {'knut':'한국교통대학교', 'likelion':'멋쟁이사자처럼', 'hmm':'흐으음'}\n",
    "dict4 = dict(address='충청북도 충주시', university='knut', department='software')\n",
    "\n",
    "\n",
    "print(type(dict1))\n",
    "print(type(dict2))\n",
    "print(type(dict3))\n",
    "print(type(dict4))"
   ]
  },
  {
   "cell_type": "markdown",
   "metadata": {},
   "source": [
    ">- 딕셔너리형의 여러 선언 방법들\n",
    "\n",
    "<br><br><br>"
   ]
  },
  {
   "cell_type": "code",
   "execution_count": 31,
   "metadata": {},
   "outputs": [
    {
     "name": "stdout",
     "output_type": "stream",
     "text": [
      "{'knut': '한국교통대학교', 'likelion': '멋쟁이사자처럼', 'hmm': '흐으음'}\n",
      "한국교통대학교\n",
      "멋쟁이사자처럼\n"
     ]
    }
   ],
   "source": [
    "dict2 = {'knut':'한국교통대학교', 'likelion':'멋쟁이사자처럼', 'hmm':'흐으음'}\n",
    "\n",
    "print(dict2)\n",
    "print(dict2['knut'])\n",
    "print(dict2['likelion'])"
   ]
  },
  {
   "cell_type": "markdown",
   "metadata": {},
   "source": [
    ">- 값을 호출하기 위해서는\n",
    "- 객체['key']을 해준다.\n",
    "\n",
    "<br><br><br>"
   ]
  },
  {
   "cell_type": "code",
   "execution_count": 32,
   "metadata": {},
   "outputs": [
    {
     "name": "stdout",
     "output_type": "stream",
     "text": [
      "['사과', '포도', '귤', 100]\n"
     ]
    }
   ],
   "source": [
    "dict2 = {'fruit': ['사과','포도','귤',100]}\n",
    "\n",
    "print(dict2['fruit'])"
   ]
  },
  {
   "cell_type": "markdown",
   "metadata": {},
   "source": [
    ">- 딕셔너리의 값에는 리스트가 올 수도 있다.\n",
    "\n",
    "<br><br><br>"
   ]
  },
  {
   "cell_type": "code",
   "execution_count": 35,
   "metadata": {},
   "outputs": [
    {
     "name": "stdout",
     "output_type": "stream",
     "text": [
      "{'fruit': ['사과', '포도', '귤', 100]}\n",
      "{'fruit': ['사과', '포도', '귤', 100], 'meat': ['돼지고기', '소고기']}\n"
     ]
    }
   ],
   "source": [
    "dict2 = {'fruit': ['사과','포도','귤',100]}\n",
    "\n",
    "print(dict2)\n",
    "\n",
    "dict2['meat'] = ['돼지고기','소고기']\n",
    "\n",
    "print(dict2)"
   ]
  },
  {
   "cell_type": "markdown",
   "metadata": {},
   "source": [
    ">- 딕셔너리형에 추가할 때에는\n",
    "- 딕셔너리 객체에 키값을 설정해주고, 값을 대입하면 된다.\n",
    "\n",
    "<br><br><br>"
   ]
  },
  {
   "cell_type": "code",
   "execution_count": 43,
   "metadata": {},
   "outputs": [
    {
     "name": "stdout",
     "output_type": "stream",
     "text": [
      "{'fruit': '과일', 'meat': '고기', 'vegetable': '채소'}\n",
      "{'meat': '고기', 'vegetable': '채소'}\n"
     ]
    }
   ],
   "source": [
    "dict3 = {'fruit':'과일', 'meat':'고기', 'vegetable':'채소'}\n",
    "print(dict3)\n",
    "\n",
    "del dict3['fruit']\n",
    "print(dict3)"
   ]
  },
  {
   "cell_type": "markdown",
   "metadata": {},
   "source": [
    ">- del() 함수를 사용하여 딕셔너리 객체에 키값을 설정하여 삭제할 수 있다.\n",
    "\n",
    "<br><br><br>"
   ]
  },
  {
   "cell_type": "markdown",
   "metadata": {},
   "source": [
    "# 딕셔너리 내장 함수"
   ]
  },
  {
   "cell_type": "code",
   "execution_count": 46,
   "metadata": {},
   "outputs": [
    {
     "name": "stdout",
     "output_type": "stream",
     "text": [
      "dict_keys(['knut', 'likelion', 'hmm'])\n",
      "dict_values(['한국교통대학교', '멋쟁이사자처럼', '흐으음'])\n",
      "dict_items([('knut', '한국교통대학교'), ('likelion', '멋쟁이사자처럼'), ('hmm', '흐으음')])\n"
     ]
    }
   ],
   "source": [
    "dict3 = {'knut':'한국교통대학교', 'likelion':'멋쟁이사자처럼', 'hmm':'흐으음'}\n",
    "\n",
    "print(dict3.keys())\n",
    "print(dict3.values())\n",
    "print(dict3.items())"
   ]
  },
  {
   "cell_type": "markdown",
   "metadata": {},
   "source": [
    ">- keys() 함수는 키 값만을 추출\n",
    "- values() 함수는 값 만을 추출\n",
    "- items() 함수는 키, 값 모두 추출하고, 튜플 객체로 반환\n",
    "\n",
    "<br><br><br>"
   ]
  },
  {
   "cell_type": "code",
   "execution_count": 48,
   "metadata": {},
   "outputs": [
    {
     "name": "stdout",
     "output_type": "stream",
     "text": [
      "{'knut': '한국교통대학교', 'likelion': '멋쟁이사자처럼', 'hmm': '흐으음'}\n",
      "{}\n"
     ]
    }
   ],
   "source": [
    "dict3 = {'knut':'한국교통대학교', 'likelion':'멋쟁이사자처럼', 'hmm':'흐으음'}\n",
    "\n",
    "print(dict3)\n",
    "\n",
    "dict3.clear()\n",
    "\n",
    "print(dict3)"
   ]
  },
  {
   "cell_type": "markdown",
   "metadata": {},
   "source": [
    ">- clear() 함수를 통해 객체 안의 모든 것을 지울 수 있다.\n",
    "\n",
    "<br><br><br>"
   ]
  },
  {
   "cell_type": "code",
   "execution_count": 54,
   "metadata": {},
   "outputs": [
    {
     "name": "stdout",
     "output_type": "stream",
     "text": [
      "한국교통대학교\n",
      "한국교통대학교\n",
      "None\n",
      "뭐어쩌라고\n"
     ]
    }
   ],
   "source": [
    "dict3 = {'knut':'한국교통대학교', 'likelion':'멋쟁이사자처럼', 'hmm':'흐으음'}\n",
    "\n",
    "print(dict3['knut'])\n",
    "print(dict3.get('knut'))\n",
    "print(dict3.get('뭐'))\n",
    "print(dict3.get('뭐', '뭐어쩌라고'))"
   ]
  },
  {
   "cell_type": "markdown",
   "metadata": {},
   "source": [
    ">- 지금까지 딕셔너리형의 값을 추출하기 위해서는\n",
    "- 키값을 통해 접근한다는 것을 배웠다.\n",
    "- 하지만, 없는 키값에 접근하게 되면 에러가 난다.\n",
    "\n",
    ">- get() 함수는 없는 키값에 접근하면 None 객체를 반환함으로써\n",
    "- 없는 키값이라는 것을 알린다.\n",
    "- get() 함수의 두번째 인자가 설정될 시, 키 값이 없으면 설정한 값이 반환된다.\n",
    "\n",
    "<br><br><br>"
   ]
  },
  {
   "cell_type": "markdown",
   "metadata": {},
   "source": [
    "# 기타\n",
    ">- 이 외에도 딕셔너리 내장 함수들이 있으므로\n",
    "- 스스로 찾아서 공부하여 보도록 한다."
   ]
  },
  {
   "cell_type": "code",
   "execution_count": null,
   "metadata": {},
   "outputs": [],
   "source": []
  }
 ],
 "metadata": {
  "kernelspec": {
   "display_name": "Python 3",
   "language": "python",
   "name": "python3"
  },
  "language_info": {
   "codemirror_mode": {
    "name": "ipython",
    "version": 3
   },
   "file_extension": ".py",
   "mimetype": "text/x-python",
   "name": "python",
   "nbconvert_exporter": "python",
   "pygments_lexer": "ipython3",
   "version": "3.7.2"
  }
 },
 "nbformat": 4,
 "nbformat_minor": 2
}
