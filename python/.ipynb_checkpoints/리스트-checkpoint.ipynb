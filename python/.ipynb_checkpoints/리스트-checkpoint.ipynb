{
 "cells": [
  {
   "cell_type": "markdown",
   "metadata": {},
   "source": [
    "# 리스트\n",
    ">- List\n",
    "- 배열이라고 생각하면 된다.\n",
    "- 다만, 배열과 달리 여러 자료형을 담을 수 있다.\n",
    "---\n",
    "<br><br><br>"
   ]
  },
  {
   "cell_type": "code",
   "execution_count": 1,
   "metadata": {},
   "outputs": [],
   "source": [
    "list1 = []"
   ]
  },
  {
   "cell_type": "markdown",
   "metadata": {},
   "source": [
    ">- list1 = list() 와 동일\n",
    "\n",
    "<br><br><br>"
   ]
  },
  {
   "cell_type": "code",
   "execution_count": 9,
   "metadata": {},
   "outputs": [
    {
     "name": "stdout",
     "output_type": "stream",
     "text": [
      "30\n",
      "[30, 29]\n",
      "[123, 410, 30, 29]\n"
     ]
    },
    {
     "data": {
      "text/plain": [
       "list"
      ]
     },
     "execution_count": 9,
     "metadata": {},
     "output_type": "execute_result"
    }
   ],
   "source": [
    "list1 = [123, 410, 30, 29]\n",
    "\n",
    "print(list1[2])\n",
    "print(list1[2:4])\n",
    "print(list1)\n",
    "type(list1)"
   ]
  },
  {
   "cell_type": "markdown",
   "metadata": {},
   "source": [
    ">- 슬라이싱 적용가능\n",
    "\n",
    "<br><br><br>"
   ]
  },
  {
   "cell_type": "code",
   "execution_count": 13,
   "metadata": {},
   "outputs": [
    {
     "name": "stdout",
     "output_type": "stream",
     "text": [
      "[142, 'knut', '멋사']\n",
      "멋사\n"
     ]
    }
   ],
   "source": [
    "list2 = ['hello', [142, 'knut', '멋사'], 999]\n",
    "\n",
    "print(list2[1])\n",
    "print(list2[1][2])"
   ]
  },
  {
   "cell_type": "markdown",
   "metadata": {},
   "source": [
    ">- 여러 자료형 담을 수 있다.\n",
    "- 배열처럼 인덱스로 접근 가능\n",
    "\n",
    "<br><br><br>"
   ]
  },
  {
   "cell_type": "code",
   "execution_count": 17,
   "metadata": {},
   "outputs": [
    {
     "name": "stdout",
     "output_type": "stream",
     "text": [
      "['hello', [142, 'knut', '멋사'], 999]\n",
      "['hello', 'a', 999]\n"
     ]
    }
   ],
   "source": [
    "list2 = ['hello', [142, 'knut', '멋사'], 999]\n",
    "\n",
    "print(list2)\n",
    "\n",
    "list2[1] = 'a'\n",
    "\n",
    "print(list2)"
   ]
  },
  {
   "cell_type": "markdown",
   "metadata": {},
   "source": [
    ">- list 값 수정 가능\n",
    "\n",
    "<br><br><br>"
   ]
  },
  {
   "cell_type": "code",
   "execution_count": 18,
   "metadata": {},
   "outputs": [
    {
     "name": "stdout",
     "output_type": "stream",
     "text": [
      "['hello', [142, 'knut', '멋사'], 999, '흐으음']\n",
      "['hello', 'ㅁ', '흐으음']\n"
     ]
    }
   ],
   "source": [
    "list2 = ['hello', [142, 'knut', '멋사'], 999, '흐으음']\n",
    "\n",
    "print(list2)\n",
    "\n",
    "list2[1:3] = 'ㅁ'\n",
    "\n",
    "print(list2)"
   ]
  },
  {
   "cell_type": "markdown",
   "metadata": {},
   "source": []
  }
 ],
 "metadata": {
  "kernelspec": {
   "display_name": "Python 3",
   "language": "python",
   "name": "python3"
  },
  "language_info": {
   "codemirror_mode": {
    "name": "ipython",
    "version": 3
   },
   "file_extension": ".py",
   "mimetype": "text/x-python",
   "name": "python",
   "nbconvert_exporter": "python",
   "pygments_lexer": "ipython3",
   "version": "3.7.2"
  }
 },
 "nbformat": 4,
 "nbformat_minor": 2
}
