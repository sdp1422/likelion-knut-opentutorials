{
 "cells": [
  {
   "cell_type": "markdown",
   "metadata": {},
   "source": [
    "# 반복문\n",
    ">- 프로그래밍을 하는 데에 있어서 조건문과 함께 가장 핵심 요소라 할 수 있다.\n",
    "- 지정된 조건만큼 반복을 한다.\n",
    "- while 문과 for 문에 대해 다룰 것이다.\n",
    "\n",
    "<br><br><br>"
   ]
  },
  {
   "cell_type": "markdown",
   "metadata": {},
   "source": [
    "# while 문\n",
    ">- 기본 구조\n",
    "- <pre>\n",
    "while 조건문:\n",
    "    수행할 문장 1\n",
    "    수행할 문장 2\n",
    "    수행할 문장 3    \n",
    "</pre>\n",
    "\n",
    "<br><br><br>"
   ]
  },
  {
   "cell_type": "code",
   "execution_count": 21,
   "metadata": {},
   "outputs": [
    {
     "name": "stdout",
     "output_type": "stream",
     "text": [
      "11\n",
      "12\n",
      "13\n",
      "14\n",
      "15\n",
      "16\n",
      "17\n",
      "18\n",
      "19\n",
      "20\n"
     ]
    }
   ],
   "source": [
    "num1 = 10\n",
    "\n",
    "while num1 < 20:\n",
    "    num1 += 1\n",
    "    print(num1)"
   ]
  },
  {
   "cell_type": "markdown",
   "metadata": {},
   "source": [
    ">- 간단한 while문 예제\n",
    "\n",
    "<br><br><br>"
   ]
  },
  {
   "cell_type": "markdown",
   "metadata": {},
   "source": [
    "# for 문\n",
    ">- 기본 구조\n",
    "- <pre>\n",
    "for 변수 in 리스트(or 튜플 or 문자열 등등):\n",
    "    수행할 문장 1\n",
    "    수행할 문장 2\n",
    "    수행할 문장 3\n",
    "    \n",
    "</pre>\n",
    "\n",
    "<br><br><br>"
   ]
  },
  {
   "cell_type": "code",
   "execution_count": 22,
   "metadata": {},
   "outputs": [
    {
     "name": "stdout",
     "output_type": "stream",
     "text": [
      "한국교통대학교\n",
      "knut\n",
      "멋쟁이사자처럼\n"
     ]
    }
   ],
   "source": [
    "list1 = ['한국교통대학교','knut','멋쟁이사자처럼']\n",
    "\n",
    "for i in list1:\n",
    "    print(i)"
   ]
  },
  {
   "cell_type": "markdown",
   "metadata": {},
   "source": [
    "<br><br><br>"
   ]
  },
  {
   "cell_type": "code",
   "execution_count": 23,
   "metadata": {},
   "outputs": [
    {
     "name": "stdout",
     "output_type": "stream",
     "text": [
      "42\n",
      "45\n",
      "97\n",
      "32\n"
     ]
    }
   ],
   "source": [
    "tuple1 = (42,45,97,32)\n",
    "\n",
    "for i in tuple1:\n",
    "    print(i)"
   ]
  },
  {
   "cell_type": "markdown",
   "metadata": {},
   "source": [
    "<br><br><br>"
   ]
  },
  {
   "cell_type": "code",
   "execution_count": 24,
   "metadata": {},
   "outputs": [
    {
     "name": "stdout",
     "output_type": "stream",
     "text": [
      "멋\n",
      "쟁\n",
      "이\n",
      "사\n",
      "자\n",
      "처\n",
      "럼\n",
      " \n",
      "한\n",
      "국\n",
      "교\n",
      "통\n",
      "대\n",
      "학\n",
      "교\n"
     ]
    }
   ],
   "source": [
    "str1 = \"멋쟁이사자처럼 한국교통대학교\"\n",
    "\n",
    "for i in str1:\n",
    "    print(i)"
   ]
  },
  {
   "cell_type": "markdown",
   "metadata": {},
   "source": [
    "<br><br><br>"
   ]
  },
  {
   "cell_type": "code",
   "execution_count": 25,
   "metadata": {},
   "outputs": [
    {
     "name": "stdout",
     "output_type": "stream",
     "text": [
      "knut 한국교통대학교\n",
      "likelion 멋쟁이사저처럼\n",
      "hello 안녕\n"
     ]
    }
   ],
   "source": [
    "dict1 = {'knut':'한국교통대학교', 'likelion':'멋쟁이사저처럼', 'hello':'안녕'}\n",
    "\n",
    "for i,j in dict1.items():\n",
    "    print(i, j)"
   ]
  },
  {
   "cell_type": "markdown",
   "metadata": {},
   "source": [
    ">- 이와 같이 딕셔너리형처럼 여러 개의 쌍으로 이루어져있는 자료형이면,<br>\n",
    "반복문에서 여러 개의 변수를 한꺼번에 다룰 수도 있다.\n",
    "\n",
    "<br><br><br>"
   ]
  },
  {
   "cell_type": "markdown",
   "metadata": {},
   "source": [
    "# range() 함수\n",
    ">- 숫자 리스트를 알아서 만들어 준다.\n",
    "- 보통 for 문에서 자주 사용된다.\n",
    "- range(10) => 0 부터 9까지 리스트를 만들어준다.\n",
    "- range(2,10) => 2부터 9까지 리스트를 만들어준다.\n",
    "- 맨 뒤에 있는 숫자보다 1작은 숫자까지 반복하는 것에 유의한다.\n",
    "\n",
    "<br><br><br>"
   ]
  },
  {
   "cell_type": "code",
   "execution_count": 26,
   "metadata": {},
   "outputs": [
    {
     "name": "stdout",
     "output_type": "stream",
     "text": [
      "0\n",
      "1\n",
      "2\n",
      "3\n",
      "4\n",
      "5\n",
      "6\n",
      "7\n",
      "8\n",
      "9\n"
     ]
    }
   ],
   "source": [
    "for i in range(10):\n",
    "    print(i)"
   ]
  },
  {
   "cell_type": "markdown",
   "metadata": {},
   "source": [
    "<br><br><br>"
   ]
  },
  {
   "cell_type": "code",
   "execution_count": 27,
   "metadata": {},
   "outputs": [
    {
     "name": "stdout",
     "output_type": "stream",
     "text": [
      "2\n",
      "3\n",
      "4\n",
      "5\n",
      "6\n",
      "7\n",
      "8\n",
      "9\n"
     ]
    }
   ],
   "source": [
    "for i in range(2,10):\n",
    "    print(i)"
   ]
  },
  {
   "cell_type": "markdown",
   "metadata": {},
   "source": [
    "<br><br><br>"
   ]
  },
  {
   "cell_type": "markdown",
   "metadata": {},
   "source": [
    "# 제어문과 반복문\n",
    ">- 제어문과 반복문을 잘 조합하여 프로그램을 구성하도록 해본다.\n",
    "\n",
    "<br><br><br>"
   ]
  },
  {
   "cell_type": "code",
   "execution_count": 28,
   "metadata": {},
   "outputs": [
    {
     "name": "stdout",
     "output_type": "stream",
     "text": [
      "1 홀수입니다.\n",
      "2 짝수입니다.\n",
      "3 홀수입니다.\n",
      "4 짝수입니다.\n",
      "5 홀수입니다.\n",
      "6 짝수입니다.\n",
      "7 홀수입니다.\n",
      "8 짝수입니다.\n",
      "9 홀수입니다.\n",
      "10 짝수입니다.\n",
      "11 홀수입니다.\n",
      "12 짝수입니다.\n",
      "13 홀수입니다.\n",
      "14 짝수입니다.\n",
      "15 홀수입니다.\n",
      "16 짝수입니다.\n",
      "17 홀수입니다.\n",
      "18 짝수입니다.\n",
      "19 홀수입니다.\n"
     ]
    }
   ],
   "source": [
    "for i in range(1,20):\n",
    "    if i % 2 == 0:\n",
    "        print(i, \"짝수입니다.\")\n",
    "    else:\n",
    "        print(i, \"홀수입니다.\")"
   ]
  },
  {
   "cell_type": "markdown",
   "metadata": {},
   "source": [
    ">- 간단한 제어문과 반복문 조합 예제\n",
    "\n",
    "<br><br><br>"
   ]
  },
  {
   "cell_type": "code",
   "execution_count": null,
   "metadata": {},
   "outputs": [],
   "source": []
  }
 ],
 "metadata": {
  "kernelspec": {
   "display_name": "Python 3",
   "language": "python",
   "name": "python3"
  },
  "language_info": {
   "codemirror_mode": {
    "name": "ipython",
    "version": 3
   },
   "file_extension": ".py",
   "mimetype": "text/x-python",
   "name": "python",
   "nbconvert_exporter": "python",
   "pygments_lexer": "ipython3",
   "version": "3.7.2"
  }
 },
 "nbformat": 4,
 "nbformat_minor": 2
}
