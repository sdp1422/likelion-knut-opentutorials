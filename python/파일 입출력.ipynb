{
 "cells": [
  {
   "cell_type": "markdown",
   "metadata": {},
   "source": [
    "# 파일 입출력\n",
    ">- 텍스트 파일을 불러와서 작업을 하거나 <br>\n",
    "우리가 작업한 것을 텍스트 파일로 저장을 하거나<br>\n",
    "꼭 텍스트 파일뿐만 아니라 엑셀 파일 등일 수도 있다.<br>\n",
    "이렇게 파일을 여러 방면으로 활용할 일이 생각보다 많다.\n",
    "\n",
    "<br><br><br>"
   ]
  },
  {
   "cell_type": "markdown",
   "metadata": {},
   "source": [
    "# 파일 입출력 모드\n",
    ">- 3가지 모드가 있다.\n",
    "- `r`(read) : 읽기 모드\n",
    "- `w`(write) : 쓰기 모드\n",
    "- `a`(add) : 추가 모드 - 파일의 끝에 새로운 내용을 추가할 때\n",
    "\n",
    "<br><br><br>"
   ]
  },
  {
   "cell_type": "markdown",
   "metadata": {},
   "source": [
    "# 쓰기 모드"
   ]
  },
  {
   "cell_type": "code",
   "execution_count": 11,
   "metadata": {},
   "outputs": [],
   "source": [
    "file1 = open(\"test1.txt\", 'w')\n",
    "file1.write(\"테스트해볼게요.\")\n",
    "file1.close()"
   ]
  },
  {
   "cell_type": "markdown",
   "metadata": {},
   "source": [
    ">- 먼저, `open()` 내장함수를 이용하여 파일을 열 수 있다.\n",
    "- 첫번째 인자는 `파일 이름`, <br>\n",
    "두번째 인자는 `입출력 모드`를 설정한다.\n",
    "- file1 객체를 만들었으므로 `write()` 함수를 이용하여 내용을 적는다.\n",
    "- 작업이 끝나면 항상 반드시 `close()` 함수로 `닫아주어야 한다.`\n",
    "\n",
    ">- 쓰기 모드는 파일 내용을 덮어쓰기 때문에 주의해야 한다.\n",
    "\n",
    "<br><br><br>"
   ]
  },
  {
   "cell_type": "markdown",
   "metadata": {},
   "source": [
    "# 읽기 모드"
   ]
  },
  {
   "cell_type": "code",
   "execution_count": 12,
   "metadata": {},
   "outputs": [
    {
     "name": "stdout",
     "output_type": "stream",
     "text": [
      "테스트해볼게요.\n"
     ]
    }
   ],
   "source": [
    "file1 = open('test1.txt', 'r')\n",
    "data = file1.read()\n",
    "print(data)\n",
    "file1.close()"
   ]
  },
  {
   "cell_type": "markdown",
   "metadata": {},
   "source": [
    "<br><br><br>"
   ]
  },
  {
   "cell_type": "markdown",
   "metadata": {},
   "source": [
    "# 추가 모드"
   ]
  },
  {
   "cell_type": "code",
   "execution_count": 13,
   "metadata": {},
   "outputs": [
    {
     "name": "stdout",
     "output_type": "stream",
     "text": [
      "테스트해볼게요.\n",
      "추가로 작성된 내용\n"
     ]
    }
   ],
   "source": [
    "file1 = open('test1.txt', 'a')\n",
    "file1.write(\"\\n추가로 작성된 내용\")\n",
    "file1.close()\n",
    "\n",
    "file1 = open('test1.txt', 'r')\n",
    "data = file1.read()\n",
    "print(data)\n",
    "file1.close()"
   ]
  },
  {
   "cell_type": "markdown",
   "metadata": {},
   "source": [
    "<br><br><br>"
   ]
  },
  {
   "cell_type": "markdown",
   "metadata": {},
   "source": [
    "# with 구문\n",
    ">- 위에서 우리는 open() 함수를 통해 파일을 열고, <br>\n",
    "close() 함수를 통해 반드시 닫아주어야 한다는 것을 공부했다.\n",
    "- 하지만 파일 객체는 내부적으로 '__enter()__', '__exit()__'가 <br>\n",
    "이미 구현이 되어 있다.\n",
    "- 따라서 with 구문을 활용한다면 자동으로 블록을 종료할 때 <br>\n",
    "'__exit()__'를 호출하게 되어 close()를 프로그래머가 직접 하지 않아도 된다.\n",
    "\n",
    ">- 구문 <pre>\n",
    "with open('test1.txt', mode='w') as f:\n",
    "    f.write(\"\\nwith 구문으로 작성해본 내용\")\n",
    "</pre>"
   ]
  },
  {
   "cell_type": "code",
   "execution_count": 14,
   "metadata": {},
   "outputs": [
    {
     "name": "stdout",
     "output_type": "stream",
     "text": [
      "테스트해볼게요.\n",
      "추가로 작성된 내용\n",
      "with 구문으로 작성해본 내용\n"
     ]
    }
   ],
   "source": [
    "with open('test1.txt', mode='a') as f:\n",
    "    f.write(\"\\nwith 구문으로 작성해본 내용\")\n",
    "    \n",
    "with open('test1.txt', mode='r') as f:\n",
    "    data = f.read()\n",
    "    print(data)"
   ]
  },
  {
   "cell_type": "markdown",
   "metadata": {},
   "source": [
    "<br><br><br>"
   ]
  },
  {
   "cell_type": "markdown",
   "metadata": {},
   "source": [
    "# 기타\n",
    ">- 이 외에도 파일 객체의 내장 함수들이 더 있으므로 <br>\n",
    "스스로 학습하여 활용해보도록 한다.\n",
    "\n",
    "<br><br><br>"
   ]
  },
  {
   "cell_type": "code",
   "execution_count": null,
   "metadata": {},
   "outputs": [],
   "source": []
  }
 ],
 "metadata": {
  "kernelspec": {
   "display_name": "Python 3",
   "language": "python",
   "name": "python3"
  },
  "language_info": {
   "codemirror_mode": {
    "name": "ipython",
    "version": 3
   },
   "file_extension": ".py",
   "mimetype": "text/x-python",
   "name": "python",
   "nbconvert_exporter": "python",
   "pygments_lexer": "ipython3",
   "version": "3.7.2"
  }
 },
 "nbformat": 4,
 "nbformat_minor": 2
}
