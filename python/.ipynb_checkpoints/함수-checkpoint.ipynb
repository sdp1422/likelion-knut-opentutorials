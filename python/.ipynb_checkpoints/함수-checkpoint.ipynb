{
 "cells": [
  {
   "cell_type": "markdown",
   "metadata": {},
   "source": [
    "# 함수\n",
    ">- 함수는 자주 사용하는 코드들을 묶어놓은 것이다.\n",
    "- `def` 키워드를 사용하여 정의한다.\n",
    "\n",
    "\n",
    "<br><br><br>"
   ]
  },
  {
   "cell_type": "markdown",
   "metadata": {},
   "source": [
    "# 함수의 일반적인 구조\n",
    ">- <pre>\n",
    "def 함수이름(매개변수들):\n",
    "    수행할 문장 1\n",
    "    수행할 문장 2\n",
    "    return 결과값\n",
    "</pre>\n",
    "\n",
    "<br><br><br>"
   ]
  },
  {
   "cell_type": "code",
   "execution_count": 8,
   "metadata": {},
   "outputs": [
    {
     "name": "stdout",
     "output_type": "stream",
     "text": [
      "60\n",
      "10\n",
      "20\n",
      "30\n"
     ]
    }
   ],
   "source": [
    "def sum(num1,num2,num3):    \n",
    "    resultNum = num1 + num2 + num3\n",
    "    num1 += 1\n",
    "    num2 += 1\n",
    "    num3 += 1\n",
    "    return resultNum\n",
    "\n",
    "a = 10\n",
    "b = 20\n",
    "c = 30\n",
    "\n",
    "sumResult = sum(a,b,c)\n",
    "print(sumResult)\n",
    "\n",
    "print(a)\n",
    "print(b)\n",
    "print(c)"
   ]
  },
  {
   "cell_type": "markdown",
   "metadata": {},
   "source": [
    ">- 함수 간단 예제\n",
    "\n",
    "<br><br><br>"
   ]
  },
  {
   "cell_type": "markdown",
   "metadata": {},
   "source": [
    "# 매개변수(parameter)\n",
    ">- 매개변수가 무엇일까?\n",
    "- 변수는 이미 알고 있을 것이다.\n",
    "- 우리가 일상적으로 사용하는 단어 중 `매개체`의 `매개`이다.\n",
    "- 위의 예제에서 볼 때 함수를 정의하는 부분에서 <br>\n",
    "num1, num2, num3가 `매개변수`이다.\n",
    "- 이는 영어로 `파라미터`라고도 부른다.\n",
    "- 즉, 함수의 정의와 함수의 호출시 중간에 있는 변수인 것이다.\n",
    "\n",
    ">- 한번 num1,num2,num3를 함수 정의 부분 밖에서 출력해보도록 하자. <br>\n",
    "아마 에러가 날 것이다.\n",
    "- 중간 역할을 해주고나서 소멸되기 때문이다.\n",
    "- a,b,c 또한 함수 안에서 1씩 증가시켜주었지만, 그 값은 소멸되었기 때문에 <br>\n",
    "그대로 출력되는 것을 볼 수 있다.\n",
    "\n",
    ">- 그렇다면, sum(a,b,c)에서 a,b,c는 무엇일까?\n",
    "- 이를 우리는 `인수`라고 부른다.\n",
    "- 함수가 호출될 때 전달되는 값들인 것이다.\n",
    "\n",
    "<br><br><br>"
   ]
  },
  {
   "cell_type": "markdown",
   "metadata": {},
   "source": [
    "# mutable 과 immutable\n",
    ">- 우리는 위에서 함수 정의 안에서 처리되는 매개변수는 처리가 되고난 후 사라진다고 공부했다.<br>\n",
    "과연 그럴까?\n",
    "- 다음의 예시를 보도록 하자."
   ]
  },
  {
   "cell_type": "code",
   "execution_count": 18,
   "metadata": {},
   "outputs": [
    {
     "name": "stdout",
     "output_type": "stream",
     "text": [
      "[42, 56, 98, 33]\n",
      "77이 추가되었습니다.\n",
      "[42, 56, 98, 33, 77]\n"
     ]
    }
   ],
   "source": [
    "def add(myList, num1):\n",
    "    myList.append(num1)\n",
    "    resultStr = str(num1) + \"이 추가되었습니다.\"\n",
    "    return resultStr\n",
    "\n",
    "list1 = [42,56,98,33]\n",
    "print(list1)\n",
    "\n",
    "str1 = add(list1, 77)\n",
    "\n",
    "print(str1)\n",
    "print(list1)"
   ]
  },
  {
   "cell_type": "markdown",
   "metadata": {},
   "source": [
    ">- list1 을 보면 함수 호출 후 바뀐 사항이 적용된 것을 볼 수 있다.\n",
    "- 즉, 매개변수에 따라 값이 변할 수도, 아닐 수도 있는 것이다.\n",
    "- `mutable`타입의 변수는 함수 내에서 변할 수 있고, <br>\n",
    "`immutable` 타입은 변하지 않는다.\n",
    "- 정수의 경우 `immutable` 타입이므로 변하지 않았고,<br>\n",
    "리스트의 경우 `mutable` 타입이므로 변할 수 있었다.\n",
    "\n",
    "<br><br><br>"
   ]
  },
  {
   "cell_type": "markdown",
   "metadata": {},
   "source": [
    "# Default parameter\n",
    ">- 지금까지 매개변수가 무엇인지에 대해 배웠지만, <br>\n",
    "지금부터는 여러 형태의 매개변수에 대해 살펴보도록 한다."
   ]
  },
  {
   "cell_type": "code",
   "execution_count": 21,
   "metadata": {},
   "outputs": [
    {
     "name": "stdout",
     "output_type": "stream",
     "text": [
      "130\n",
      "60\n"
     ]
    }
   ],
   "source": [
    "def sum(num1,num2, num3 = 100):    \n",
    "    resultNum = num1 + num2 + num3\n",
    "    \n",
    "    return resultNum\n",
    "\n",
    "a = 10\n",
    "b = 20\n",
    "c = 30\n",
    "\n",
    "sumResult = sum(a,b)\n",
    "print(sumResult)\n",
    "\n",
    "sumResult = sum(a,b,c)\n",
    "print(sumResult)\n"
   ]
  },
  {
   "cell_type": "markdown",
   "metadata": {},
   "source": [
    ">- `num3 = 100`<br>\n",
    "이처럼 매개변수에 기본 값을 지정해 놓는 것이 `default parameter`이다.\n",
    "\n",
    ">- 이럴 경우, 함수를 호출할 때 기본 값이 정해져 있으므로<br>\n",
    "3번째 인수에 값을 넣지 않아도 호출이 된다. <br>\n",
    "대신 기본 값인 100으로 계산된다.\n",
    "\n",
    ">- 기본 값으로 설정은 되어있지만, 함수를 호출할 때<br>\n",
    "3번째 인수를 넣게 되면, 기본 값은 무시가 되어 호출이 된다.\n",
    "\n",
    "\n",
    "<br><br><br>"
   ]
  },
  {
   "cell_type": "markdown",
   "metadata": {},
   "source": [
    "# Named parameter\n",
    ">- 매개변수에 지정된 변수이름에 직접 대입하여 전달하는 것이다.\n",
    "- 지금까지 배운 방식대로 파라미터를 사용하려면 <br>\n",
    "매개변수가 쓰여진 순서대로 값을 전달해야 한다.\n",
    "- 하지만 이 방식을 사용하면, 파라미터의 순서는 상관없이 <br>\n",
    "값을 전달할 수 있게 된다."
   ]
  },
  {
   "cell_type": "code",
   "execution_count": 29,
   "metadata": {},
   "outputs": [
    {
     "name": "stdout",
     "output_type": "stream",
     "text": [
      "num1 = 300\n",
      "num2 = 400\n",
      "num3 = 200\n",
      "900\n"
     ]
    }
   ],
   "source": [
    "def sum(num1,num2,num3):    \n",
    "    resultNum = num1 + num2 + num3\n",
    "    print(\"num1 = \" + str(num1))\n",
    "    print(\"num2 = \" + str(num2))\n",
    "    print(\"num3 = \" + str(num3))\n",
    "    \n",
    "    return resultNum\n",
    "\n",
    "sumResult = sum(num3=200, num1=300, num2=400)\n",
    "\n",
    "print(sumResult)"
   ]
  },
  {
   "cell_type": "markdown",
   "metadata": {},
   "source": [
    "<br><br><br>"
   ]
  },
  {
   "cell_type": "markdown",
   "metadata": {},
   "source": [
    "# 가변길이 parameter\n",
    ">- 파라미터의 개수가 정해져있다면, 많은 개수를 전달할 수 없을 것이다.\n",
    "- 또한, 함수를 정의할 때 인수로 몇 개를 사용할 지 알 수 없을 경우도 있을 것이다.\n",
    "- 이럴 때, 가변길이 파라미터를 사용하여 개수의 제한을 없앤다.\n",
    "- 매개변수 앞에 `*`를 붙여서 표현한다."
   ]
  },
  {
   "cell_type": "code",
   "execution_count": 37,
   "metadata": {},
   "outputs": [
    {
     "name": "stdout",
     "output_type": "stream",
     "text": [
      "30\n",
      "55\n"
     ]
    }
   ],
   "source": [
    "def sum(*varNums):\n",
    "    resultNum = 0\n",
    "    for i in varNums:\n",
    "        resultNum += i\n",
    "    \n",
    "    return resultNum\n",
    "\n",
    "sumResult = sum(10,20)\n",
    "print(sumResult)\n",
    "\n",
    "sumResult = sum(1,2,3,4,5,6,7,8,9,10)\n",
    "print(sumResult)"
   ]
  },
  {
   "cell_type": "markdown",
   "metadata": {},
   "source": [
    "<br><br><br>"
   ]
  },
  {
   "cell_type": "markdown",
   "metadata": {},
   "source": [
    "# 리턴 값\n",
    ">- 많은 프로그래밍 언어들은 리턴 값을 1개를 뱉어낸다.<br>\n",
    "그래서 리턴 값 1개의 제약을 포인터를 사용한다던가 다른 방법을 통해 <br>\n",
    "구현한다.\n",
    "- 그러나, 파이썬은 여러 개를 뱉어낼 수 있다.<br>\n",
    "엄밀히 말하면, 튜플 형태로 리턴 값 자체는 1개를 뱉어내긴 한다.<br>\n",
    "하지만, 다른 언어에 비해 직관적으로 이해하기에 여러 개를 뱉어내는 것처럼 보이며,<br>\n",
    "활용하기에 장점이 있다."
   ]
  },
  {
   "cell_type": "code",
   "execution_count": 40,
   "metadata": {},
   "outputs": [
    {
     "name": "stdout",
     "output_type": "stream",
     "text": [
      "55\n",
      "최종 결과 값은 55입니다.\n",
      "<class 'tuple'>\n"
     ]
    }
   ],
   "source": [
    "def sum(*varNums):\n",
    "    resultNum = 0\n",
    "    \n",
    "    for i in varNums:\n",
    "        resultNum += i\n",
    "    \n",
    "    resultStr = \"최종 결과 값은 \" + str(resultNum) + \"입니다.\"\n",
    "    \n",
    "    return resultNum, resultStr\n",
    "\n",
    "num1, str1 = sum(1,2,3,4,5,6,7,8,9,10)\n",
    "\n",
    "print(num1)\n",
    "print(str1)\n",
    "print(type(sum(1,2,3,4,5,6,7,8,9,10)))"
   ]
  },
  {
   "cell_type": "markdown",
   "metadata": {},
   "source": [
    "<br><br><br>"
   ]
  },
  {
   "cell_type": "code",
   "execution_count": null,
   "metadata": {},
   "outputs": [],
   "source": []
  }
 ],
 "metadata": {
  "kernelspec": {
   "display_name": "Python 3",
   "language": "python",
   "name": "python3"
  },
  "language_info": {
   "codemirror_mode": {
    "name": "ipython",
    "version": 3
   },
   "file_extension": ".py",
   "mimetype": "text/x-python",
   "name": "python",
   "nbconvert_exporter": "python",
   "pygments_lexer": "ipython3",
   "version": "3.7.2"
  }
 },
 "nbformat": 4,
 "nbformat_minor": 2
}
