{
 "cells": [
  {
   "cell_type": "markdown",
   "metadata": {},
   "source": [
    "# 문자열\n",
    ">- 문자열은 `\"\"` 또는 `''`로 감싸준다.\n",
    "---"
   ]
  },
  {
   "cell_type": "code",
   "execution_count": 5,
   "metadata": {},
   "outputs": [
    {
     "name": "stdout",
     "output_type": "stream",
     "text": [
      "LikeLion KNUT\n",
      "멋쟁이사자처럼 한국교통대학교\n"
     ]
    }
   ],
   "source": [
    "str1 = \"LikeLion KNUT\"\n",
    "str2 = \"멋쟁이사자처럼 한국교통대학교\"\n",
    "\n",
    "print(str1)\n",
    "print(str2)"
   ]
  },
  {
   "cell_type": "markdown",
   "metadata": {},
   "source": [
    "---"
   ]
  },
  {
   "cell_type": "code",
   "execution_count": 3,
   "metadata": {},
   "outputs": [
    {
     "name": "stdout",
     "output_type": "stream",
     "text": [
      "I don't like an apple.\n"
     ]
    }
   ],
   "source": [
    "str3 = 'I don\\'t like an apple.'\n",
    "\n",
    "print(str3)"
   ]
  },
  {
   "cell_type": "markdown",
   "metadata": {},
   "source": [
    "> - 위의 예제처럼 문자열 속에 ' 같은 문자가 들어갈 경우 <br>\n",
    "\\(역슬레시) 탈출 문자를 써준다.\n",
    "\n",
    "---"
   ]
  },
  {
   "cell_type": "code",
   "execution_count": 4,
   "metadata": {},
   "outputs": [
    {
     "name": "stdout",
     "output_type": "stream",
     "text": [
      "C:\\Users\n"
     ]
    }
   ],
   "source": [
    "str1 = r'C:\\Users'\n",
    "\n",
    "print(str1)"
   ]
  },
  {
   "cell_type": "markdown",
   "metadata": {},
   "source": [
    "> - 문자열 앞에 r이 오면 'raw'. 아무 의미없는 문자열을 뜻한다.\n",
    "---"
   ]
  },
  {
   "cell_type": "code",
   "execution_count": 6,
   "metadata": {},
   "outputs": [
    {
     "name": "stdout",
     "output_type": "stream",
     "text": [
      "Hello World!\n"
     ]
    }
   ],
   "source": [
    "str1 = 'Hello'\n",
    "str2 = ' World!'\n",
    "\n",
    "print(str1 + str2)"
   ]
  },
  {
   "cell_type": "markdown",
   "metadata": {},
   "source": [
    "> - `+` 연산자를 이용하여 문자열을 합칠 수 있다.\n",
    "---"
   ]
  },
  {
   "cell_type": "code",
   "execution_count": 7,
   "metadata": {},
   "outputs": [
    {
     "name": "stdout",
     "output_type": "stream",
     "text": [
      "hi hi hi hi hi \n"
     ]
    }
   ],
   "source": [
    "str1 = 'hi '\n",
    "\n",
    "print(str1 * 5)"
   ]
  },
  {
   "cell_type": "markdown",
   "metadata": {},
   "source": [
    ">- `*` 연산자를 이용하면 문자열을 반복할 수 있다.\n",
    "---"
   ]
  },
  {
   "cell_type": "markdown",
   "metadata": {},
   "source": [
    "## 문자열 슬라이싱\n",
    ">- 문자열\n",
    ">- 연속적인 객체들(ex - 리스트, 튜플, 문자열) 범위를 지정해 선택해서 <br>\n",
    "객체들을 가져오는 방법 및 표기법을 의미\n",
    "\n",
    "---"
   ]
  },
  {
   "cell_type": "code",
   "execution_count": 29,
   "metadata": {},
   "outputs": [
    {
     "name": "stdout",
     "output_type": "stream",
     "text": [
      "H\n",
      "e\n",
      "l\n"
     ]
    }
   ],
   "source": [
    "str1 = 'Hello LikeLion KNUT'\n",
    "\n",
    "print(str1[0])\n",
    "print(str1[1])\n",
    "print(str1[2])"
   ]
  },
  {
   "cell_type": "markdown",
   "metadata": {},
   "source": [
    "---"
   ]
  },
  {
   "cell_type": "code",
   "execution_count": 31,
   "metadata": {},
   "outputs": [
    {
     "name": "stdout",
     "output_type": "stream",
     "text": [
      "T\n",
      "U\n",
      "N\n",
      "K\n"
     ]
    }
   ],
   "source": [
    "str1 = \"Hello LikeLion KNUT\"\n",
    "\n",
    "print(str1[-1])\n",
    "print(str1[-2])\n",
    "print(str1[-3])\n",
    "print(str1[-4])"
   ]
  },
  {
   "cell_type": "markdown",
   "metadata": {},
   "source": [
    "> - 인덱스에 음수 값을 넣게되면 <br>\n",
    "-1부터 -2, -3... 순으로 역으로 가져온다.\n",
    "\n",
    "---"
   ]
  },
  {
   "cell_type": "code",
   "execution_count": 32,
   "metadata": {},
   "outputs": [
    {
     "name": "stdout",
     "output_type": "stream",
     "text": [
      "llo\n",
      "Hello Like\n",
      "Lion KNUT\n"
     ]
    }
   ],
   "source": [
    "str1 = \"Hello LikeLion KNUT\"\n",
    "\n",
    "print(str1[2:5])\n",
    "print(str1[:10])\n",
    "print(str1[10:])"
   ]
  },
  {
   "cell_type": "markdown",
   "metadata": {},
   "source": [
    ">- 콜론(:)을 사용하면 범위를 지정할 수 있으며, <br>\n",
    "앞쪽을 생략할 경우 인덱스 0부터 가져오며, <br>\n",
    "뒤쪽을 생략할 경우 마지막 인덱스까지 가져온다.\n",
    "- 2:5 => 2이상 5미만\n",
    "\n",
    "---"
   ]
  },
  {
   "cell_type": "code",
   "execution_count": null,
   "metadata": {},
   "outputs": [],
   "source": []
  }
 ],
 "metadata": {
  "kernelspec": {
   "display_name": "Python 3",
   "language": "python",
   "name": "python3"
  },
  "language_info": {
   "codemirror_mode": {
    "name": "ipython",
    "version": 3
   },
   "file_extension": ".py",
   "mimetype": "text/x-python",
   "name": "python",
   "nbconvert_exporter": "python",
   "pygments_lexer": "ipython3",
   "version": "3.7.2"
  }
 },
 "nbformat": 4,
 "nbformat_minor": 2
}
