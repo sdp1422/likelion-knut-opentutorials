{
 "cells": [
  {
   "cell_type": "markdown",
   "metadata": {},
   "source": [
    "# 불(bool)\n",
    "\n",
    "- 컴퓨터 과학에서 불리언(boolean) 자료형은 논리 자료형이라고도 하며, <br>\n",
    "참과 거짓을 나타내는 데 쓰인다.\n",
    "<br>\n",
    "\n",
    "- 주로 참은 1, 거짓은 0에 대응하나 언어마다 차이가 있다. <br>\n",
    "숫자를 쓰지 않고 참과 거짓을 나타내는 영단어 true와 false를 쓰기도 한다.\n",
    "<br>\n",
    "\n",
    "- 불리언(Boolean)이라는 말은 영국의 수학자 겸 논리학자인 <br>\n",
    "조지 불(George Boole)의 이름에서 따온 것이다. - 위키백과\n",
    "<br>\n",
    "\n",
    "- 요약) `참(True)` / `거짓(False)`을 나타내는 자료형\n",
    "\n",
    "---\n",
    "\n",
    "<br><br><br>"
   ]
  },
  {
   "cell_type": "markdown",
   "metadata": {},
   "source": [
    "# 활용"
   ]
  },
  {
   "cell_type": "code",
   "execution_count": 13,
   "metadata": {},
   "outputs": [
    {
     "name": "stdout",
     "output_type": "stream",
     "text": [
      "True\n",
      "False\n",
      "<class 'bool'> <class 'bool'>\n"
     ]
    }
   ],
   "source": [
    "a = True\n",
    "b = False\n",
    "\n",
    "print(a)\n",
    "print(b)\n",
    "print(type(a), type(b))"
   ]
  },
  {
   "cell_type": "markdown",
   "metadata": {},
   "source": [
    "<br><br><br>"
   ]
  },
  {
   "cell_type": "code",
   "execution_count": 14,
   "metadata": {},
   "outputs": [
    {
     "name": "stdout",
     "output_type": "stream",
     "text": [
      "참입니다1\n",
      "참입니다2.\n",
      "참입니다.3\n"
     ]
    }
   ],
   "source": [
    "if True:\n",
    "    print(\"참입니다1\")\n",
    "\n",
    "a = True\n",
    "\n",
    "if a:\n",
    "    print(\"참입니다2.\")\n",
    "\n",
    "b = False\n",
    "\n",
    "if b:\n",
    "    print(\"거짓입니다.\")\n",
    "else:\n",
    "    print(\"참입니다.3\")"
   ]
  },
  {
   "cell_type": "markdown",
   "metadata": {},
   "source": [
    ">- 일단 이것은 예제를 위한 예제이므로 \n",
    "<br>\n",
    "억지로 만든 점에 대해서는 양해를 바란다.\n",
    "<br>\n",
    "\n",
    ">- 말하고자 하는 바는 이와 같이 사실상 <br>\n",
    "조건문에서 활용할 경우가 많다는 것이다.\n",
    "\n",
    "<br><br><br>"
   ]
  },
  {
   "cell_type": "code",
   "execution_count": null,
   "metadata": {},
   "outputs": [],
   "source": []
  }
 ],
 "metadata": {
  "kernelspec": {
   "display_name": "Python 3",
   "language": "python",
   "name": "python3"
  },
  "language_info": {
   "codemirror_mode": {
    "name": "ipython",
    "version": 3
   },
   "file_extension": ".py",
   "mimetype": "text/x-python",
   "name": "python",
   "nbconvert_exporter": "python",
   "pygments_lexer": "ipython3",
   "version": "3.7.2"
  }
 },
 "nbformat": 4,
 "nbformat_minor": 2
}
