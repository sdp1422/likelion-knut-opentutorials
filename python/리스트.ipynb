{
 "cells": [
  {
   "cell_type": "markdown",
   "metadata": {},
   "source": [
    "# 리스트\n",
    ">- List\n",
    "- 배열이라고 생각하면 된다.\n",
    "- 다만, 배열과 달리 여러 자료형을 담을 수 있다.\n",
    "\n",
    "---\n",
    "<br><br><br>\n",
    "\n",
    "# jupyter notebook 이용시 작은 팁\n",
    ">- tab키를 사용하여 관련 함수를 검색할 수 있다.\n",
    "- shift + tab을 사용하면 함수 이용법을 알 수 있다.\n",
    "- ctrl + enter를 사용하면 셀에 대해 결과를 출력할 수 있다.\n",
    "- shift + enter를 사용하면 결과 출력 및 추가 셀을 생성할 수 있다.\n",
    "- 이 외의 팁은 Help 에서 찾아보도록 한다.\n",
    "\n",
    "---\n",
    "\n",
    "<br><br><br>\n"
   ]
  },
  {
   "cell_type": "code",
   "execution_count": 76,
   "metadata": {},
   "outputs": [],
   "source": [
    "list1 = []"
   ]
  },
  {
   "cell_type": "markdown",
   "metadata": {},
   "source": [
    ">- list1 = list() 와 동일\n",
    "\n",
    "<br><br><br>"
   ]
  },
  {
   "cell_type": "markdown",
   "metadata": {},
   "source": [
    "# 리스트 슬라이싱"
   ]
  },
  {
   "cell_type": "code",
   "execution_count": 77,
   "metadata": {},
   "outputs": [
    {
     "name": "stdout",
     "output_type": "stream",
     "text": [
      "30\n",
      "[30, 29]\n",
      "[123, 410, 30, 29]\n"
     ]
    },
    {
     "data": {
      "text/plain": [
       "list"
      ]
     },
     "execution_count": 77,
     "metadata": {},
     "output_type": "execute_result"
    }
   ],
   "source": [
    "list1 = [123, 410, 30, 29]\n",
    "\n",
    "print(list1[2])\n",
    "print(list1[2:4])\n",
    "print(list1)\n",
    "type(list1)"
   ]
  },
  {
   "cell_type": "markdown",
   "metadata": {},
   "source": [
    ">- 슬라이싱 적용가능\n",
    "\n",
    "<br><br><br>"
   ]
  },
  {
   "cell_type": "code",
   "execution_count": 78,
   "metadata": {},
   "outputs": [
    {
     "name": "stdout",
     "output_type": "stream",
     "text": [
      "[142, 'knut', '멋사']\n",
      "멋사\n"
     ]
    }
   ],
   "source": [
    "list2 = ['hello', [142, 'knut', '멋사'], 999]\n",
    "\n",
    "print(list2[1])\n",
    "print(list2[1][2])"
   ]
  },
  {
   "cell_type": "markdown",
   "metadata": {},
   "source": [
    ">- 여러 자료형 담을 수 있다.\n",
    "- 배열처럼 인덱스로 접근 가능\n",
    "\n",
    "<br><br><br>"
   ]
  },
  {
   "cell_type": "code",
   "execution_count": 79,
   "metadata": {},
   "outputs": [
    {
     "name": "stdout",
     "output_type": "stream",
     "text": [
      "['hello', [142, 'knut', '멋사'], 999]\n",
      "['hello', 'a', 999]\n"
     ]
    }
   ],
   "source": [
    "list2 = ['hello', [142, 'knut', '멋사'], 999]\n",
    "\n",
    "print(list2)\n",
    "\n",
    "list2[1] = 'a'\n",
    "\n",
    "print(list2)"
   ]
  },
  {
   "cell_type": "markdown",
   "metadata": {},
   "source": [
    ">- 리스트 값 수정 가능\n",
    "\n",
    "<br><br><br>"
   ]
  },
  {
   "cell_type": "code",
   "execution_count": 80,
   "metadata": {},
   "outputs": [
    {
     "name": "stdout",
     "output_type": "stream",
     "text": [
      "['hello', [142, 'knut', '멋사'], 999, '흐으음']\n",
      "['hello', 'ㅁ', '흐으음']\n"
     ]
    }
   ],
   "source": [
    "list2 = ['hello', [142, 'knut', '멋사'], 999, '흐으음']\n",
    "\n",
    "print(list2)\n",
    "\n",
    "list2[1:3] = 'ㅁ'\n",
    "\n",
    "print(list2)"
   ]
  },
  {
   "cell_type": "markdown",
   "metadata": {},
   "source": [
    ">- 슬라이싱을 이용한 리스트 값 수정\n",
    "\n",
    "<br><br><br>"
   ]
  },
  {
   "cell_type": "code",
   "execution_count": 81,
   "metadata": {},
   "outputs": [
    {
     "name": "stdout",
     "output_type": "stream",
     "text": [
      "['hello', [142, 'knut', '멋사'], 999, '흐으음']\n",
      "['hello', '흐으음']\n"
     ]
    }
   ],
   "source": [
    "list2 = ['hello', [142, 'knut', '멋사'], 999, '흐으음']\n",
    "print(list2)\n",
    "\n",
    "list2[1:3] = []\n",
    "\n",
    "print(list2)"
   ]
  },
  {
   "cell_type": "markdown",
   "metadata": {},
   "source": [
    ">- 슬라이싱을 이용한 리스트 값 삭제\n",
    "\n",
    "<br><br><br>"
   ]
  },
  {
   "cell_type": "markdown",
   "metadata": {},
   "source": [
    "# 리스트 내장함수"
   ]
  },
  {
   "cell_type": "code",
   "execution_count": 82,
   "metadata": {},
   "outputs": [
    {
     "name": "stdout",
     "output_type": "stream",
     "text": [
      "['hello', [142, 'knut', '멋사'], 999, '흐으음']\n",
      "[999, '흐으음']\n"
     ]
    }
   ],
   "source": [
    "list2 = ['hello', [142, 'knut', '멋사'], 999, '흐으음']\n",
    "\n",
    "print(list2)\n",
    "\n",
    "del list2[0:2]\n",
    "\n",
    "print(list2)"
   ]
  },
  {
   "cell_type": "markdown",
   "metadata": {},
   "source": [
    ">- del() 함수와 슬라이싱을 사용하여 리스트 값 삭제\n",
    "\n",
    "<br><br><br>"
   ]
  },
  {
   "cell_type": "code",
   "execution_count": 83,
   "metadata": {},
   "outputs": [
    {
     "name": "stdout",
     "output_type": "stream",
     "text": [
      "['hello', [142, 'knut', '멋사'], 999, '흐으음']\n",
      "['hello', [142, 'knut', '멋사'], 999, '흐으음', 123]\n"
     ]
    }
   ],
   "source": [
    "list2 = ['hello', [142, 'knut', '멋사'], 999, '흐으음']\n",
    "\n",
    "print(list2)\n",
    "\n",
    "list2.append(123)\n",
    "\n",
    "print(list2)"
   ]
  },
  {
   "cell_type": "markdown",
   "metadata": {},
   "source": [
    ">- append() 함수는 리스트 맨 뒤에 추가\n",
    "- append() 함수는 인자를 1개만 사용 가능\n",
    "\n",
    "<br><br><br>"
   ]
  },
  {
   "cell_type": "code",
   "execution_count": 84,
   "metadata": {},
   "outputs": [
    {
     "name": "stdout",
     "output_type": "stream",
     "text": [
      "[4, 46, 51, 61, 78, 94]\n",
      "[94, 78, 61, 51, 46, 4]\n"
     ]
    }
   ],
   "source": [
    "list2 = [94, 46, 51, 61, 4, 78]\n",
    "\n",
    "list2.sort()\n",
    "\n",
    "print(list2)\n",
    "\n",
    "list2.sort(reverse = True)\n",
    "\n",
    "print(list2)"
   ]
  },
  {
   "cell_type": "markdown",
   "metadata": {},
   "source": [
    ">- sort() 함수를 이용하면 오름차순 정렬을 할 수 있다.\n",
    "- 인자로 reverse = True 를 사용하면 역으로 정렬(내림차순)할 수 있다.\n",
    "\n",
    "<br><br><br>"
   ]
  },
  {
   "cell_type": "code",
   "execution_count": 85,
   "metadata": {},
   "outputs": [
    {
     "name": "stdout",
     "output_type": "stream",
     "text": [
      "[94, 46, 51, 61, 4, 78]\n",
      "[78, 4, 61, 51, 46, 94]\n"
     ]
    }
   ],
   "source": [
    "list2 = [94, 46, 51, 61, 4, 78]\n",
    "\n",
    "print(list2)\n",
    "\n",
    "list2.reverse()\n",
    "\n",
    "print(list2)"
   ]
  },
  {
   "cell_type": "markdown",
   "metadata": {},
   "source": [
    ">- reverse() 함수를 사용하면 리스트 순서를 뒤집어준다.\n",
    "\n",
    "<br><br><br>"
   ]
  },
  {
   "cell_type": "code",
   "execution_count": 86,
   "metadata": {},
   "outputs": [
    {
     "name": "stdout",
     "output_type": "stream",
     "text": [
      "[94, 46, 51, 61, 4, 78]\n",
      "2\n",
      "5\n"
     ]
    }
   ],
   "source": [
    "list2 = [94, 46, 51, 61, 4, 78]\n",
    "\n",
    "print(list2)\n",
    "\n",
    "print(list2.index(51))\n",
    "print(list2.index(78))"
   ]
  },
  {
   "cell_type": "markdown",
   "metadata": {},
   "source": [
    ">- index() 함수는 인자로 설정한 값의 인덱스 번호를 출력한다.\n",
    "\n",
    "<br><br><br>"
   ]
  },
  {
   "cell_type": "code",
   "execution_count": 87,
   "metadata": {},
   "outputs": [
    {
     "name": "stdout",
     "output_type": "stream",
     "text": [
      "[94, 46, 51, 61, 4, 78]\n",
      "[94, 46, 51, '안녕', 61, 4, 78]\n"
     ]
    }
   ],
   "source": [
    "list2 = [94, 46, 51, 61, 4, 78]\n",
    "\n",
    "print(list2)\n",
    "\n",
    "list2.insert(3, '안녕')\n",
    "\n",
    "print(list2)"
   ]
  },
  {
   "cell_type": "markdown",
   "metadata": {},
   "source": [
    ">- insert() 함수는\n",
    "- 첫번째 인자는 인덱스 번호를 설정하고\n",
    "- 두번재 인자는 넣을 값을 설정한다.\n",
    "\n",
    "<br><br><br>"
   ]
  },
  {
   "cell_type": "code",
   "execution_count": 88,
   "metadata": {},
   "outputs": [
    {
     "name": "stdout",
     "output_type": "stream",
     "text": [
      "[94, 46, 33, 46, 46, 78]\n",
      "[94, 33, 46, 46, 78]\n"
     ]
    }
   ],
   "source": [
    "list2 = [94, 46, 33, 46, 46, 78]\n",
    "\n",
    "print(list2)\n",
    "\n",
    "list2.remove(46)\n",
    "\n",
    "print(list2)"
   ]
  },
  {
   "cell_type": "markdown",
   "metadata": {},
   "source": [
    ">- remove() 함수는 인자로 설정한 값을 리스트에서 찾고\n",
    "- 가장 먼저 나오는 것만 삭제한다.\n",
    "\n",
    "<br><br><br>"
   ]
  },
  {
   "cell_type": "code",
   "execution_count": 89,
   "metadata": {},
   "outputs": [
    {
     "name": "stdout",
     "output_type": "stream",
     "text": [
      "[94, 46, 33, 100, 123, 78]\n",
      "[94, 46, 33, 100, 123]\n",
      "78\n"
     ]
    }
   ],
   "source": [
    "list2 = [94, 46, 33, 100, 123, 78]\n",
    "\n",
    "print(list2)\n",
    "\n",
    "a = list2.pop()\n",
    "\n",
    "print(list2)\n",
    "print(a)"
   ]
  },
  {
   "cell_type": "markdown",
   "metadata": {},
   "source": [
    ">- pop() 함수는 리스트의 가장 마지막 값을 삭제\n",
    "\n",
    "<br><br><br>"
   ]
  },
  {
   "cell_type": "code",
   "execution_count": 90,
   "metadata": {},
   "outputs": [
    {
     "name": "stdout",
     "output_type": "stream",
     "text": [
      "[94, 46, 33, 46, 46, 78, 94]\n",
      "3\n",
      "2\n"
     ]
    }
   ],
   "source": [
    "list2 = [94, 46, 33, 46, 46, 78, 94]\n",
    "\n",
    "print(list2)\n",
    "\n",
    "print(list2.count(46))\n",
    "print(list2.count(94))"
   ]
  },
  {
   "cell_type": "markdown",
   "metadata": {},
   "source": [
    ">- count() 함수는 인자로 설정된 값이\n",
    "- 리스트 안에서 몇 개 있는지 세는 함수\n",
    "\n",
    "<br><br><br>"
   ]
  },
  {
   "cell_type": "code",
   "execution_count": 91,
   "metadata": {},
   "outputs": [
    {
     "name": "stdout",
     "output_type": "stream",
     "text": [
      "['abc', 123, 'test2', 1111]\n",
      "['abc', 123, 'test2', 1111, '음', [4567, '흐으음'], '그래']\n"
     ]
    }
   ],
   "source": [
    "list2 = ['abc', 123, 'test2', 1111]\n",
    "\n",
    "print(list2)\n",
    "\n",
    "list3 = ['음', [4567, '흐으음'], '그래']\n",
    "\n",
    "list2.extend(list3)\n",
    "\n",
    "print(list2)"
   ]
  },
  {
   "cell_type": "markdown",
   "metadata": {},
   "source": [
    ">- extend() 함수는 인자로 리스트를 받으며\n",
    "- 리스트 간의 병합을 할 수 있다.\n",
    "\n",
    "<br><br><br>"
   ]
  },
  {
   "cell_type": "code",
   "execution_count": 92,
   "metadata": {},
   "outputs": [
    {
     "name": "stdout",
     "output_type": "stream",
     "text": [
      "3\n",
      "1\n",
      "2\n",
      "3\n"
     ]
    }
   ],
   "source": [
    "list3 = ['음', [4567, '흐으음'], '그래']\n",
    "\n",
    "print(len(list3))\n",
    "print(len(list3[0]))\n",
    "print(len(list3[1]))\n",
    "print(len(list3[1][1]))"
   ]
  },
  {
   "cell_type": "markdown",
   "metadata": {},
   "source": [
    ">- len() 함수는 리스트 뿐만 아니라 \n",
    "- 여러 객체들의 개수를 얻을 때 사용한다.\n",
    "\n",
    "\n",
    "<br><br><br>"
   ]
  },
  {
   "cell_type": "markdown",
   "metadata": {},
   "source": [
    "## 기타 리스트 내장 함수\n",
    ">- 이 외에도 많은 내장 함수들이 있으므로\n",
    "- 스스로 학습하도록 한다."
   ]
  },
  {
   "cell_type": "code",
   "execution_count": null,
   "metadata": {},
   "outputs": [],
   "source": []
  }
 ],
 "metadata": {
  "kernelspec": {
   "display_name": "Python 3",
   "language": "python",
   "name": "python3"
  },
  "language_info": {
   "codemirror_mode": {
    "name": "ipython",
    "version": 3
   },
   "file_extension": ".py",
   "mimetype": "text/x-python",
   "name": "python",
   "nbconvert_exporter": "python",
   "pygments_lexer": "ipython3",
   "version": "3.7.2"
  }
 },
 "nbformat": 4,
 "nbformat_minor": 2
}
