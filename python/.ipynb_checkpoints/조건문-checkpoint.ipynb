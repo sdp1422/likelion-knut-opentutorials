{
 "cells": [
  {
   "cell_type": "markdown",
   "metadata": {},
   "source": [
    "# 개요\n",
    ">- 조건문을 공부할 때, 연산자와 함께 공부하면 좋을 것 같아 같이 구성해보았다.\n",
    "- 파이썬 문법 전반적인 내용도 함께 담아보았다."
   ]
  },
  {
   "cell_type": "markdown",
   "metadata": {},
   "source": [
    "<br><br><br>"
   ]
  },
  {
   "cell_type": "markdown",
   "metadata": {},
   "source": [
    "# 조건문\n",
    "- 소위 `if문`이라고도 한다.\n",
    "\n",
    "---\n",
    "\n",
    "<br><br><br>"
   ]
  },
  {
   "cell_type": "markdown",
   "metadata": {},
   "source": [
    "# 파이썬과 기타 프로그래밍 언어들의 문법적 차이점\n",
    ">- 많은 프로그래밍 언어에서는 블록으로 감쌀 때,<br>\n",
    "`중괄호 { }` 로 감싸고 이와 같이 표현하게 된다.\n",
    "- 또한 문장의 끝에는 세미콜론(;)을 찍어준다.\n",
    "- <pre>ex)\n",
    "if(num1 == num2) {\n",
    "    수행할 문장1;\n",
    "    수행할 문장2;\n",
    "}\n",
    "else {\n",
    "    수행할 문장3;\n",
    "    수행할 문장4;\n",
    "}\n",
    "</pre>\n",
    "\n",
    ">- 하지만, 파이썬에서는 블록을 구성할 때, <br>\n",
    "중괄호 { } 로 묶지 않고, `콜론(:)`을 찍는 것이 전부다.\n",
    "- 그리고 `들여쓰기(indentation)`을 통해 블록을 구성한다.\n",
    "- 들여쓰기는 통상 `tab키`를 친다.\n",
    "- 또한 문장의 끝에는 세미콜론(;)을 찍어주지 않는다.\n",
    "\n",
    "<br><br><br>"
   ]
  },
  {
   "cell_type": "markdown",
   "metadata": {},
   "source": [
    "# 기본 구조\n",
    "<br>\n",
    "\n",
    "><pre>\n",
    "if 조건문:\n",
    "    수행할 문장 1\n",
    "    수행할 문장 2\n",
    "    수행할 문장 3\n",
    "else:\n",
    "    수행할 문장 4\n",
    "    수행할 문장 5\n",
    "</pre>\n",
    "\n",
    "<br>\n",
    "\n",
    ">- 만약 조건문이 참이면 문장 1,2,3이 수행되고,\n",
    "- 아니라면 문장 4,5가 수행된다.\n",
    "\n",
    "<br><br><br>"
   ]
  },
  {
   "cell_type": "code",
   "execution_count": 9,
   "metadata": {},
   "outputs": [
    {
     "name": "stdout",
     "output_type": "stream",
     "text": [
      "숫자가 다릅니다.\n"
     ]
    }
   ],
   "source": [
    "num1 = 123\n",
    "num2 = 456\n",
    "\n",
    "if num1 == num2:\n",
    "    print('숫자가 같습니다.')\n",
    "else:\n",
    "    print('숫자가 다릅니다.')"
   ]
  },
  {
   "cell_type": "markdown",
   "metadata": {},
   "source": [
    ">- 기본 예제\n",
    "\n",
    "---\n",
    "<br><br><br>"
   ]
  },
  {
   "cell_type": "markdown",
   "metadata": {},
   "source": [
    "# 여러 조건 비교 구조\n",
    ">- 다른 프로그래밍 언어들은 `else if`를 사용하지만,<br>\n",
    "파이썬은 `elif`를 사용한다.\n",
    "\n",
    "><pre>\n",
    "if 조건문1:\n",
    "    수행할 문장 1\n",
    "    수행할 문장 2\n",
    "    수행할 문장 3\n",
    "elif 조건문2:\n",
    "    수행할 문장 4\n",
    "    수행할 문장 5\n",
    "else:\n",
    "    수행할 문장 6\n",
    "    수행할 문장 7\n",
    "</pre>\n",
    "\n",
    "<br>\n",
    "\n",
    ">- 만약 조건문1이 참이면 문장 1,2,3이 수행되고,\n",
    "- 조건문1은 거짓이지만 조건문2가 참이면 문장 4,5가 수행되고,\n",
    "- 아무 것도 아니면 문장 6,7이 수행된다.\n",
    "\n",
    ">- `elif`는 if와 else 사이에 여러번 올 수 있다.\n",
    "- if 안에 if를 여러번 사용하는 중첩 if문으로 구성할 수도 있다.\n",
    "- 대신에 들여쓰기(indentation)을 신경써서 사용하도록 한다.\n",
    "\n",
    "<br><br><br>"
   ]
  },
  {
   "cell_type": "markdown",
   "metadata": {},
   "source": [
    "<br><br><br>"
   ]
  },
  {
   "cell_type": "markdown",
   "metadata": {},
   "source": [
    "# 산술 연산자\n",
    ">- 사칙 연산 : + - * /\n",
    "- 제곱 연산 : **\n",
    "- 나머지 : %\n",
    "- 몫 연산 : //"
   ]
  },
  {
   "cell_type": "code",
   "execution_count": 4,
   "metadata": {},
   "outputs": [
    {
     "name": "stdout",
     "output_type": "stream",
     "text": [
      "9\n",
      "64\n",
      "2\n",
      "4\n"
     ]
    }
   ],
   "source": [
    "print(5 + 4)\n",
    "print(4 ** 3)\n",
    "print(8 % 3)\n",
    "print(24 // 5)"
   ]
  },
  {
   "cell_type": "markdown",
   "metadata": {},
   "source": [
    "<br><br><br>"
   ]
  },
  {
   "cell_type": "markdown",
   "metadata": {},
   "source": [
    "# 비교 연산자\n",
    ">- 바로 위의 예제에서 == 과 같이 비교하기 위해 쓰인다.\n",
    "<br>\n",
    "\n",
    "<table border=\"1\" align=\"left\">\n",
    "\t<th>비교 연산자</th>\n",
    "\t<th>의미</th>\n",
    "\t<tr align=\"center\">\n",
    "\t    <td>x < y</td>\n",
    "\t    <td>x가 y보다 작다</td>\n",
    "\t</tr>\n",
    "\t<tr>\n",
    "\t    <td>x > y</td>\n",
    "\t    <td>x가 y보다 크다</td>\n",
    "\t</tr>\n",
    "    <tr>\n",
    "\t    <td>x == y</td>\n",
    "\t    <td>x와 y가 같다</td>\n",
    "\t</tr>\n",
    "    <tr>\n",
    "\t    <td>x != y</td>\n",
    "\t    <td>x와 y가 같지 않다</td>\n",
    "\t</tr>\n",
    "    <tr>\n",
    "\t    <td>x >= y</td>\n",
    "\t    <td>x가 y보다 크거나 같다</td>\n",
    "\t</tr>\n",
    "    <tr>\n",
    "\t    <td>x <= y</td>\n",
    "\t    <td>x가 y보다 작거나 같다</td>\n",
    "\t</tr>\n",
    "</table>"
   ]
  },
  {
   "cell_type": "markdown",
   "metadata": {},
   "source": [
    "<br><br><br>"
   ]
  },
  {
   "cell_type": "code",
   "execution_count": 10,
   "metadata": {},
   "outputs": [
    {
     "name": "stdout",
     "output_type": "stream",
     "text": [
      "<class 'bool'>\n",
      "True\n",
      "False\n",
      "False\n",
      "True\n",
      "False\n",
      "True\n"
     ]
    }
   ],
   "source": [
    "num1 = 3 < 4\n",
    "print(type(num1))\n",
    "\n",
    "print(3 < 4)\n",
    "print(3 > 4)\n",
    "print(3 == 4)\n",
    "print(3 != 4)\n",
    "print(3 >= 4)\n",
    "print(3 <= 4)"
   ]
  },
  {
   "cell_type": "markdown",
   "metadata": {},
   "source": [
    ">- 비교 연산자 활용 예제\n",
    "\n",
    "<br><br><br>"
   ]
  },
  {
   "cell_type": "markdown",
   "metadata": {},
   "source": [
    "# 논리 연산자\n",
    ">- and, or, not이 있다.\n",
    "- and 는 양쪽 둘 다 참일 경우 참 / 하나라도 거짓일 경우 거짓이다.\n",
    "- or 는 양쪽 둘 중 하나가 참일 경우 참 / 둘 다 거짓일 경우 거짓이다.\n",
    "- not 은 참이면 거짓이 되고 / 거짓이면 참이 된다."
   ]
  },
  {
   "cell_type": "code",
   "execution_count": 9,
   "metadata": {},
   "outputs": [
    {
     "name": "stdout",
     "output_type": "stream",
     "text": [
      "테스트 2\n"
     ]
    }
   ],
   "source": [
    "bool1 = True\n",
    "bool2 = False\n",
    "\n",
    "if bool1 and bool2:\n",
    "    print(\"테스트 1\")\n",
    "\n",
    "if bool1 or bool2:\n",
    "    print(\"테스트 2\")\n",
    "\n",
    "if not bool1:\n",
    "    print(\"테스트 3\")"
   ]
  },
  {
   "cell_type": "markdown",
   "metadata": {},
   "source": [
    "<br><br><br>"
   ]
  },
  {
   "cell_type": "markdown",
   "metadata": {},
   "source": [
    "# 할당 연산자\n",
    ">- 변수에 값을 할당하기 위해 사용하는 연산자\n",
    "- `=`을 사용한다.\n",
    "- 다음과 같이 산술 연산자와 결합하여 사용하기도 한다.<br>\n",
    "`+=`, `-=`, `*=`, `/=`, `%=`, `//=`<br>\n",
    "한가지만 예를 들어 설명하자면 `num1 += num2`은 `num1 = num1 + num2`라는 의미이다."
   ]
  },
  {
   "cell_type": "code",
   "execution_count": 13,
   "metadata": {},
   "outputs": [
    {
     "name": "stdout",
     "output_type": "stream",
     "text": [
      "123\n",
      "133\n",
      "113\n",
      "1230\n",
      "12.3\n",
      "3\n",
      "12\n"
     ]
    }
   ],
   "source": [
    "num1 = 123\n",
    "print(num1)\n",
    "\n",
    "num1 = 123\n",
    "num1 += 10\n",
    "print(num1)\n",
    "\n",
    "num1 = 123\n",
    "num1 -= 10\n",
    "print(num1)\n",
    "\n",
    "num1 = 123\n",
    "num1 *= 10\n",
    "print(num1)\n",
    "\n",
    "num1 = 123\n",
    "num1 /= 10\n",
    "print(num1)\n",
    "\n",
    "num1 = 123\n",
    "num1 %= 10\n",
    "print(num1)\n",
    "\n",
    "num1 = 123\n",
    "num1 //= 10\n",
    "print(num1)"
   ]
  },
  {
   "cell_type": "markdown",
   "metadata": {},
   "source": [
    "<br><br><br>"
   ]
  },
  {
   "cell_type": "markdown",
   "metadata": {},
   "source": [
    "# 비트 연산자\n",
    ">- 연산을 비트 단위로 할 경우 사용한다.\n",
    "- `|`(OR 연산자), `&`(AND 연산자), `^`(XOR 연산자), <br>\n",
    "`~`(보수 연산자), `<<`(좌측 쉬프트 연산자), `>>`(우측 쉬프트 연산자)가 있다.\n",
    "- 컴퓨터는 2의 보수 연산을 한다. ([2의 보수 - 위키백과](https://ko.wikipedia.org/wiki/2%EC%9D%98_%EB%B3%B4%EC%88%98))\n",
    "\n",
    ">- num1 = 18 : `0001 0010` (8 자리 비트로 표현)\n",
    "- num2 = 13 : `0000 1101` (8자리 비트로 표현)\n",
    "\n",
    ">- num1 | num2 = 31 : `0001 1111`<br>\n",
    "- num1 & num2 = 0 : `0000 0000`<br>\n",
    "- num1 ^ num2 = 31 : `0001 1111`<br>\n",
    "- ~num1 : `1110 1110`<br>\n",
    "- num1 << 3 = 144 : `1001 0000` 18 * 2^3<br>\n",
    "- num1 >> 3 = 2 : `0000 0010` 18 / 2 / 2 / 2<br>"
   ]
  },
  {
   "cell_type": "code",
   "execution_count": 18,
   "metadata": {},
   "outputs": [
    {
     "name": "stdout",
     "output_type": "stream",
     "text": [
      "31\n",
      "0\n",
      "31\n",
      "-19\n",
      "144\n",
      "2\n"
     ]
    }
   ],
   "source": [
    "num1 = 18\n",
    "num2 = 13\n",
    "\n",
    "print(num1 | num2)\n",
    "print(num1 & num2)\n",
    "print(num1 ^ num2)\n",
    "print(~num1)\n",
    "print(num1 << 3)\n",
    "print(num1 >> 3)"
   ]
  },
  {
   "cell_type": "markdown",
   "metadata": {},
   "source": [
    "<br><br><br>"
   ]
  },
  {
   "cell_type": "markdown",
   "metadata": {},
   "source": [
    "# 멤버십 연산자\n",
    ">- `in` 과 `not in` 이 있다.\n",
    "- 속해있는지 판단하여 True와 False 값이 결과로 나온다."
   ]
  },
  {
   "cell_type": "code",
   "execution_count": 20,
   "metadata": {},
   "outputs": [
    {
     "name": "stdout",
     "output_type": "stream",
     "text": [
      "True\n",
      "False\n"
     ]
    }
   ],
   "source": [
    "list1 = [12, 76, 25, 93]\n",
    "num1 = 12\n",
    "num2 = 23\n",
    "\n",
    "print(num1 in list1)\n",
    "print(num2 in list1)"
   ]
  },
  {
   "cell_type": "markdown",
   "metadata": {},
   "source": [
    "<br><br><br>"
   ]
  },
  {
   "cell_type": "markdown",
   "metadata": {},
   "source": [
    "# identity 연산자\n",
    ">- `is`와 `is not`이 있다.\n",
    "- 동일한 객체를 가리키는지 확인한다."
   ]
  },
  {
   "cell_type": "code",
   "execution_count": 24,
   "metadata": {},
   "outputs": [
    {
     "name": "stdout",
     "output_type": "stream",
     "text": [
      "False\n",
      "True\n",
      "True\n"
     ]
    }
   ],
   "source": [
    "str1 = '한국교통대학교'\n",
    "str2 = '한국교통대학교'\n",
    "str3 = str1\n",
    "\n",
    "print(str1 is str2)\n",
    "print(str1 is not str2)\n",
    "print(str1 is str3)"
   ]
  },
  {
   "cell_type": "markdown",
   "metadata": {},
   "source": [
    "<br><br><br>"
   ]
  },
  {
   "cell_type": "code",
   "execution_count": null,
   "metadata": {},
   "outputs": [],
   "source": []
  }
 ],
 "metadata": {
  "kernelspec": {
   "display_name": "Python 3",
   "language": "python",
   "name": "python3"
  },
  "language_info": {
   "codemirror_mode": {
    "name": "ipython",
    "version": 3
   },
   "file_extension": ".py",
   "mimetype": "text/x-python",
   "name": "python",
   "nbconvert_exporter": "python",
   "pygments_lexer": "ipython3",
   "version": "3.7.2"
  }
 },
 "nbformat": 4,
 "nbformat_minor": 2
}
