{
 "cells": [
  {
   "cell_type": "markdown",
   "metadata": {},
   "source": [
    "# 예외 처리\n",
    ">- 프로그램에서 에러가 발생했을 때, 에러를 핸들링하는 기능이다.\n",
    "- 에러는 상황에 따라 개발자가 예측할 수 있는 에러도 있지만. <br>\n",
    "예상하지 못하는 에러도 존재할 수 있다.\n",
    "- 에러를 잘 핸들링하여 프로그램이 잘 동작하도록 만들어 보도록 하자.\n",
    "\n",
    "<br><br><br>"
   ]
  },
  {
   "cell_type": "markdown",
   "metadata": {},
   "source": [
    "# 예외 처리 구문\n",
    ">- `try ~ except ~ finally`<br>\n",
    "java의 경우 `try ~ catch ~ finally` 로 사용하므로 혼동하지 않도록 한다.\n",
    "- <pre>\n",
    "try:\n",
    "    수행할 문장 1\n",
    "    수행할 문장 2\n",
    "    수행할 문장 3\n",
    "except:\n",
    "    예외 처리 문장 1\n",
    "    예외 처리 문장 2\n",
    "finally:\n",
    "    문장 1\n",
    "    문장 2\n",
    "</pre>\n",
    "\n",
    ">- `try ~ except`는 반드시 구문으로 사용해야 하지만, <br>\n",
    "`finally` 구문은 어차피 항상 마지막에 수행되는 문장이므로 <br>\n",
    "사용해도 되고, 안해도 된다.\n",
    "\n",
    "<br><br><br>"
   ]
  },
  {
   "cell_type": "code",
   "execution_count": 15,
   "metadata": {},
   "outputs": [
    {
     "name": "stdout",
     "output_type": "stream",
     "text": [
      "0으로 나누었습니다. 에러입니다.\n",
      "24\n"
     ]
    }
   ],
   "source": [
    "try:\n",
    "    num1 = 24\n",
    "    num1 = num1 / 0\n",
    "    print(num1)\n",
    "except:\n",
    "    print(\"0으로 나누었습니다. 에러입니다.\")\n",
    "finally:\n",
    "    print(num1)"
   ]
  },
  {
   "cell_type": "markdown",
   "metadata": {},
   "source": [
    ">- try ~ except ~ finally 간단 예제\n",
    "- 숫자를 0으로 나눌 수 없으므로 에러가 난다.\n",
    "- try 구문을 수행하였지만 에러가 발생하였으므로 <br>\n",
    "except 구문으로 넘어가서 수행이 된다.\n",
    "\n",
    "<br><br><br>"
   ]
  },
  {
   "cell_type": "code",
   "execution_count": 16,
   "metadata": {},
   "outputs": [
    {
     "name": "stdout",
     "output_type": "stream",
     "text": [
      "4.8\n",
      "num1 = 4.8\n"
     ]
    }
   ],
   "source": [
    "try:\n",
    "    num1 = 24\n",
    "    num1 = num1 / 5\n",
    "    print(num1)\n",
    "except:\n",
    "    print(\"0으로 나누었습니다. 에러입니다.\")\n",
    "\n",
    "print(\"num1 = \" + str(num1))"
   ]
  },
  {
   "cell_type": "markdown",
   "metadata": {},
   "source": [
    ">- `try` 구문을 수행하였지만 에러가 발생하지 않았으므로<br>\n",
    "`except` 구문을 수행하지 않는다.\n",
    "\n",
    "<br><br><br>"
   ]
  },
  {
   "cell_type": "code",
   "execution_count": 17,
   "metadata": {},
   "outputs": [
    {
     "ename": "TypeError",
     "evalue": "with_traceback() takes exactly one argument (0 given)",
     "output_type": "error",
     "traceback": [
      "\u001b[1;31m---------------------------------------------------------------------------\u001b[0m",
      "\u001b[1;31mZeroDivisionError\u001b[0m                         Traceback (most recent call last)",
      "\u001b[1;32m<ipython-input-17-8671024905c9>\u001b[0m in \u001b[0;36m<module>\u001b[1;34m\u001b[0m\n\u001b[0;32m      2\u001b[0m     \u001b[0mnum1\u001b[0m \u001b[1;33m=\u001b[0m \u001b[1;36m24\u001b[0m\u001b[1;33m\u001b[0m\u001b[1;33m\u001b[0m\u001b[0m\n\u001b[1;32m----> 3\u001b[1;33m     \u001b[0mnum1\u001b[0m \u001b[1;33m=\u001b[0m \u001b[0mnum1\u001b[0m \u001b[1;33m/\u001b[0m \u001b[1;36m0\u001b[0m\u001b[1;33m\u001b[0m\u001b[1;33m\u001b[0m\u001b[0m\n\u001b[0m\u001b[0;32m      4\u001b[0m     \u001b[0mprint\u001b[0m\u001b[1;33m(\u001b[0m\u001b[0mnum1\u001b[0m\u001b[1;33m)\u001b[0m\u001b[1;33m\u001b[0m\u001b[1;33m\u001b[0m\u001b[0m\n",
      "\u001b[1;31mZeroDivisionError\u001b[0m: division by zero",
      "\nDuring handling of the above exception, another exception occurred:\n",
      "\u001b[1;31mTypeError\u001b[0m                                 Traceback (most recent call last)",
      "\u001b[1;32m<ipython-input-17-8671024905c9>\u001b[0m in \u001b[0;36m<module>\u001b[1;34m\u001b[0m\n\u001b[0;32m      4\u001b[0m     \u001b[0mprint\u001b[0m\u001b[1;33m(\u001b[0m\u001b[0mnum1\u001b[0m\u001b[1;33m)\u001b[0m\u001b[1;33m\u001b[0m\u001b[1;33m\u001b[0m\u001b[0m\n\u001b[0;32m      5\u001b[0m \u001b[1;32mexcept\u001b[0m \u001b[0mZeroDivisionError\u001b[0m \u001b[1;32mas\u001b[0m \u001b[0me\u001b[0m\u001b[1;33m:\u001b[0m\u001b[1;33m\u001b[0m\u001b[1;33m\u001b[0m\u001b[0m\n\u001b[1;32m----> 6\u001b[1;33m     \u001b[0me\u001b[0m\u001b[1;33m.\u001b[0m\u001b[0mwith_traceback\u001b[0m\u001b[1;33m(\u001b[0m\u001b[1;33m)\u001b[0m\u001b[1;33m\u001b[0m\u001b[1;33m\u001b[0m\u001b[0m\n\u001b[0m\u001b[0;32m      7\u001b[0m     \u001b[0mprint\u001b[0m\u001b[1;33m(\u001b[0m\u001b[1;34m\"0으로 나누었습니다. 에러입니다.\"\u001b[0m\u001b[1;33m)\u001b[0m\u001b[1;33m\u001b[0m\u001b[1;33m\u001b[0m\u001b[0m\n\u001b[0;32m      8\u001b[0m \u001b[1;33m\u001b[0m\u001b[0m\n",
      "\u001b[1;31mTypeError\u001b[0m: with_traceback() takes exactly one argument (0 given)"
     ]
    }
   ],
   "source": [
    "try:\n",
    "    num1 = 24\n",
    "    num1 = num1 / 0\n",
    "    print(num1)\n",
    "except ZeroDivisionError as e:\n",
    "    e.with_traceback()\n",
    "    print(\"0으로 나누었습니다. 에러입니다.\")\n",
    "\n",
    "print(\"num1 = \" + str(num1))"
   ]
  },
  {
   "cell_type": "markdown",
   "metadata": {},
   "source": [
    ">- 대부분의 경우 `except` 구문 다음에 예외의 종류를 적어준다.\n",
    "- 위의 경우 0으로 나눌 때의 예외를 검출할 수 있도록 추적할 수 있게 하였다.\n",
    "\n",
    "<br><br><br>"
   ]
  },
  {
   "cell_type": "code",
   "execution_count": null,
   "metadata": {},
   "outputs": [],
   "source": [
    "try:\n",
    "    num1 = 24\n",
    "    num1 = num1 / 0\n",
    "    print(num1)\n",
    "except Exception as e:\n",
    "    e.with_traceback()\n",
    "    print(\"0으로 나누었습니다. 에러입니다.\")\n",
    "\n",
    "print(\"num1 = \" + str(num1))"
   ]
  },
  {
   "cell_type": "markdown",
   "metadata": {},
   "source": [
    ">- Exception은 예외들을 모아놓은 클래스이므로 <br>\n",
    "Exception 클래스를 사용하면 많은 예외들을 발견해낼 수 있다.\n",
    "- 이렇게 예외처리를 해놓으면 어디서 어떠한 에러가 났는지<br>\n",
    "개발자들이 쉽게 찾을 수 있고 해결하기 수월해진다.\n",
    "\n",
    "<br><br><br>"
   ]
  },
  {
   "cell_type": "code",
   "execution_count": null,
   "metadata": {},
   "outputs": [],
   "source": []
  }
 ],
 "metadata": {
  "kernelspec": {
   "display_name": "Python 3",
   "language": "python",
   "name": "python3"
  },
  "language_info": {
   "codemirror_mode": {
    "name": "ipython",
    "version": 3
   },
   "file_extension": ".py",
   "mimetype": "text/x-python",
   "name": "python",
   "nbconvert_exporter": "python",
   "pygments_lexer": "ipython3",
   "version": "3.7.2"
  }
 },
 "nbformat": 4,
 "nbformat_minor": 2
}
