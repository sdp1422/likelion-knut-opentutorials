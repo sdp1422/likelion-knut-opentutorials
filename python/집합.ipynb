{
 "cells": [
  {
   "cell_type": "markdown",
   "metadata": {},
   "source": [
    "# 집합\n",
    ">- set형\n",
    "- 일반적으로 알고있는 집합 개념이다.\n",
    "- 따라서 교집합, 합집합, 차집합 등 집합 연산을 할 수 있다.\n",
    "- 중복을 허용하지 않는다.\n",
    "- 순서가 없다.\n",
    "- 순서가 없기 때문에 리스트, 튜플와 달리 인덱싱 불가능\n",
    "- 인덱싱을 하고 싶다면, 리스트 or 튜플로 형변환을 해야한다.\n",
    "\n",
    "---\n",
    "<br><br><br>"
   ]
  },
  {
   "cell_type": "code",
   "execution_count": 27,
   "metadata": {},
   "outputs": [
    {
     "name": "stdout",
     "output_type": "stream",
     "text": [
      "<class 'set'>\n",
      "<class 'set'>\n",
      "<class 'set'>\n",
      "<class 'set'>\n",
      "<class 'set'>\n",
      "<class 'set'>\n"
     ]
    }
   ],
   "source": [
    "set1 = set()\n",
    "set2 = set(['음','흐음','hello world'])\n",
    "\n",
    "list1 = [100, 212,823, 742]\n",
    "tuple1 = ('hello','안녕','Hi')\n",
    "dict1 = dict({'knut':'한국교통대학교', 'likelion':'멋쟁이사자처럼'})\n",
    "\n",
    "set3 = set(list1)\n",
    "set4 = set(tuple1)\n",
    "set5 = set(dict1)\n",
    "set6 = set(\"안녕하세요\")\n",
    "\n",
    "print(type(set1))\n",
    "print(type(set2))\n",
    "print(type(set3))\n",
    "print(type(set4))\n",
    "print(type(set5))\n",
    "print(type(set6))"
   ]
  },
  {
   "cell_type": "markdown",
   "metadata": {},
   "source": [
    ">- 집합 객체 생성 방법\n",
    "- 집합 객체를 만들 때에는 인자에 리스트,튜플,딕셔너리,문자열 등\n",
    "- 집합으로 묶을 수 있는 객체들이 들어갈 수 있다.\n",
    "\n",
    "<br><br><br>"
   ]
  },
  {
   "cell_type": "markdown",
   "metadata": {},
   "source": [
    "# 집합 내장 함수"
   ]
  },
  {
   "cell_type": "code",
   "execution_count": 28,
   "metadata": {},
   "outputs": [
    {
     "name": "stdout",
     "output_type": "stream",
     "text": [
      "{32, 97, 8, 10, 45, 62}\n",
      "{32, 97, 8, 10, 45, 62}\n"
     ]
    }
   ],
   "source": [
    "set1 = set([45,62,32,97])\n",
    "set2 = set([62,32,10,8])\n",
    "\n",
    "print(set1 | set2)\n",
    "print(set1.union(set2))"
   ]
  },
  {
   "cell_type": "markdown",
   "metadata": {},
   "source": [
    ">- 합집합\n",
    "- `|` 연산자(= or 연산자)를 이용할 수 있다.\n",
    "- union() 함수를 이용할 수 있다.\n",
    "\n",
    "<br><br><br>"
   ]
  },
  {
   "cell_type": "code",
   "execution_count": 29,
   "metadata": {},
   "outputs": [
    {
     "name": "stdout",
     "output_type": "stream",
     "text": [
      "{32, 62}\n",
      "{32, 62}\n"
     ]
    }
   ],
   "source": [
    "set1 = set([45,62,32,97])\n",
    "set2 = set([62,32,10,8])\n",
    "\n",
    "print(set1 & set2)\n",
    "print(set1.intersection(set2))"
   ]
  },
  {
   "cell_type": "markdown",
   "metadata": {},
   "source": [
    ">- 교집합\n",
    "- `&` 연산자(= and 연산자)를 이용할 수 있다.\n",
    "- intersection() 함수를 이용할 수 있다.\n",
    "\n",
    "<br><br><br>"
   ]
  },
  {
   "cell_type": "code",
   "execution_count": 31,
   "metadata": {},
   "outputs": [
    {
     "name": "stdout",
     "output_type": "stream",
     "text": [
      "{97, 45}\n",
      "{97, 45}\n"
     ]
    }
   ],
   "source": [
    "set1 = set([45,62,32,97])\n",
    "set2 = set([62,32,10,8])\n",
    "\n",
    "print(set1 - set2)\n",
    "print(set1.difference(set2))"
   ]
  },
  {
   "cell_type": "markdown",
   "metadata": {},
   "source": [
    ">- 차집합\n",
    "- `-` 연산자를 이용할 수 있다.\n",
    "- difference() 함수를 이용할 수 있다.\n",
    "\n",
    "<br><br><br>"
   ]
  },
  {
   "cell_type": "code",
   "execution_count": 45,
   "metadata": {},
   "outputs": [
    {
     "name": "stdout",
     "output_type": "stream",
     "text": [
      "{32, 97, 45}\n",
      "set()\n",
      "{27}\n"
     ]
    }
   ],
   "source": [
    "set1 = set([45,62,32,97])\n",
    "\n",
    "set1.remove(62)\n",
    "print(set1)\n",
    "\n",
    "set1.clear()\n",
    "print(set1)\n",
    "\n",
    "set1.add(27)\n",
    "print(set1)"
   ]
  },
  {
   "cell_type": "markdown",
   "metadata": {},
   "source": [
    ">- remove() 함수 : 집합 객체의 원소 제거\n",
    "- clear() 함수 : 집합 객체의 원소 모두 제거\n",
    "- add() 함수 : 집합 객체의 원소 추가\n",
    "\n",
    "<br><br><br>"
   ]
  },
  {
   "cell_type": "markdown",
   "metadata": {},
   "source": [
    "# 기타 내장 함수\n",
    "- 이 외의 내장 함수들은 본인 스스로 학습해보도록 한다.\n",
    "\n",
    "<br><br><br>"
   ]
  },
  {
   "cell_type": "code",
   "execution_count": null,
   "metadata": {},
   "outputs": [],
   "source": []
  }
 ],
 "metadata": {
  "kernelspec": {
   "display_name": "Python 3",
   "language": "python",
   "name": "python3"
  },
  "language_info": {
   "codemirror_mode": {
    "name": "ipython",
    "version": 3
   },
   "file_extension": ".py",
   "mimetype": "text/x-python",
   "name": "python",
   "nbconvert_exporter": "python",
   "pygments_lexer": "ipython3",
   "version": "3.7.2"
  }
 },
 "nbformat": 4,
 "nbformat_minor": 2
}
