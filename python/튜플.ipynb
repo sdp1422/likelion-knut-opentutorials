{
 "cells": [
  {
   "cell_type": "markdown",
   "metadata": {},
   "source": [
    "# 튜플\n",
    ">- list와 비슷함\n",
    "- list는 []로 묶지만\n",
    "- tuple은 ()로 묶음\n",
    "- list는 값의 변화 가능\n",
    "- tuple은 값의 변화 불가능\n",
    "\n",
    "---\n",
    "<br><br><br>"
   ]
  },
  {
   "cell_type": "code",
   "execution_count": 29,
   "metadata": {},
   "outputs": [
    {
     "data": {
      "text/plain": [
       "tuple"
      ]
     },
     "execution_count": 29,
     "metadata": {},
     "output_type": "execute_result"
    }
   ],
   "source": [
    "tuple1 = ()\n",
    "\n",
    "type(tuple1)"
   ]
  },
  {
   "cell_type": "markdown",
   "metadata": {},
   "source": [
    ">- 튜플의 선언\n",
    "\n",
    "<br><br><br>"
   ]
  },
  {
   "cell_type": "code",
   "execution_count": 30,
   "metadata": {},
   "outputs": [
    {
     "name": "stdout",
     "output_type": "stream",
     "text": [
      "(123, 54, 823, 78)\n",
      "(456, 789, (32, 55, 98), 99)\n"
     ]
    }
   ],
   "source": [
    "tuple2 = (123, 54, 823, 78)\n",
    "tuple3 = (456, 789, (32,55,98), 99)\n",
    "\n",
    "print(tuple2)\n",
    "print(tuple3)"
   ]
  },
  {
   "cell_type": "markdown",
   "metadata": {},
   "source": [
    ">- 튜플 안에 튜플이 있는 상태로 선언 가능\n",
    "\n",
    "<br><br><br>"
   ]
  },
  {
   "cell_type": "code",
   "execution_count": 31,
   "metadata": {},
   "outputs": [
    {
     "name": "stdout",
     "output_type": "stream",
     "text": [
      "(23, 54, 67, 9)\n"
     ]
    },
    {
     "data": {
      "text/plain": [
       "tuple"
      ]
     },
     "execution_count": 31,
     "metadata": {},
     "output_type": "execute_result"
    }
   ],
   "source": [
    "tuple2 = 23, 54, 67, 9\n",
    "\n",
    "print(tuple2)\n",
    "type(tuple2)"
   ]
  },
  {
   "cell_type": "markdown",
   "metadata": {},
   "source": [
    ">- ()로 묶지 않고 선언 가능\n",
    "\n",
    "<br><br><br>"
   ]
  },
  {
   "cell_type": "markdown",
   "metadata": {},
   "source": [
    "# 인덱싱"
   ]
  },
  {
   "cell_type": "code",
   "execution_count": 32,
   "metadata": {},
   "outputs": [
    {
     "name": "stdout",
     "output_type": "stream",
     "text": [
      "(98, 45, 11)\n",
      "45\n",
      "8\n"
     ]
    }
   ],
   "source": [
    "tuple1 = (32, 54, (98, 45, 11), 8)\n",
    "\n",
    "print(tuple1[2])\n",
    "print(tuple1[2][1])\n",
    "print(tuple1[3])"
   ]
  },
  {
   "cell_type": "markdown",
   "metadata": {},
   "source": [
    "<br><br><br>\n",
    "# 슬라이싱"
   ]
  },
  {
   "cell_type": "code",
   "execution_count": 33,
   "metadata": {},
   "outputs": [
    {
     "name": "stdout",
     "output_type": "stream",
     "text": [
      "(54, (98, 45, 11))\n",
      "((98, 45, 11), 8)\n",
      "(98, 45)\n"
     ]
    }
   ],
   "source": [
    "tuple1 = (32, 54, (98, 45, 11), 8)\n",
    "\n",
    "print(tuple1[1:3])\n",
    "print(tuple1[2:4])\n",
    "print(tuple1[2][0:2])"
   ]
  },
  {
   "cell_type": "markdown",
   "metadata": {},
   "source": [
    "<br><br><br>\n",
    "\n",
    "# 병합"
   ]
  },
  {
   "cell_type": "code",
   "execution_count": 34,
   "metadata": {},
   "outputs": [
    {
     "name": "stdout",
     "output_type": "stream",
     "text": [
      "(32, 54, (98, 45, 11), 8, 'apple', 'banana', (54, 234), 23, 3)\n"
     ]
    }
   ],
   "source": [
    "tuple1 = (32, 54, (98, 45, 11), 8)\n",
    "tuple2 = ('apple', 'banana', (54, 234), 23, 3)\n",
    "\n",
    "print(tuple1 + tuple2)"
   ]
  },
  {
   "cell_type": "markdown",
   "metadata": {},
   "source": [
    "<br><br><br>\n",
    "\n",
    "# 반복"
   ]
  },
  {
   "cell_type": "code",
   "execution_count": 35,
   "metadata": {},
   "outputs": [
    {
     "name": "stdout",
     "output_type": "stream",
     "text": [
      "('apple', (54, 234), 23, 'apple', (54, 234), 23, 'apple', (54, 234), 23)\n"
     ]
    }
   ],
   "source": [
    "tuple2 = ('apple', (54, 234), 23)\n",
    "\n",
    "print(tuple2 * 3)"
   ]
  },
  {
   "cell_type": "code",
   "execution_count": null,
   "metadata": {},
   "outputs": [],
   "source": []
  }
 ],
 "metadata": {
  "kernelspec": {
   "display_name": "Python 3",
   "language": "python",
   "name": "python3"
  },
  "language_info": {
   "codemirror_mode": {
    "name": "ipython",
    "version": 3
   },
   "file_extension": ".py",
   "mimetype": "text/x-python",
   "name": "python",
   "nbconvert_exporter": "python",
   "pygments_lexer": "ipython3",
   "version": "3.7.2"
  }
 },
 "nbformat": 4,
 "nbformat_minor": 2
}
